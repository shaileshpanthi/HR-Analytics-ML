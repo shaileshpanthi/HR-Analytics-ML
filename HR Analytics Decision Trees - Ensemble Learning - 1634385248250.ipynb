{
 "cells": [
  {
   "cell_type": "markdown",
   "metadata": {},
   "source": [
    "### HR - Attrition Analytics -  Exploratory Analysis & Predictive Modeling\n",
    "> Human Resources are critical resources of any organiazation. Organizations spend huge amount of time and money to hire <br>\n",
    "> and nuture their employees. It is a huge loss for companies if employees leave, especially the key resources.  <br>\n",
    "> So if HR can predict weather employees are at risk for leaving the company, it will allow them to identify the attrition  <br>\n",
    "> risks and help understand and provie necessary support to retain those employees or do preventive hiring to minimize the  <br>\n",
    "> impact to the orgranization."
   ]
  },
  {
   "cell_type": "markdown",
   "metadata": {},
   "source": [
    "### DATA ATRRIBUTES\n",
    "\n",
    "satisfaction_level: Employee satisfaction level <br>\n",
    "last_evaluation: Last evaluation  <br>\n",
    "number_project: Number of projects  <br>\n",
    "average_montly_hours: Average monthly hours <br>\n",
    "time_spend_company: Time spent at the company <br>\n",
    "Work_accident: Whether they have had a work accident <br>\n",
    "promotion_last_5years: Whether they have had a promotion in the last 5 years <br>\n",
    "department: Department <br>\n",
    "salary: Salary <br>\n",
    "left: Whether the employee has left <br>"
   ]
  },
  {
   "cell_type": "code",
   "execution_count": 1,
   "metadata": {},
   "outputs": [],
   "source": [
    "import pandas as pd\n",
    "import numpy as np\n",
    "import matplotlib.pyplot as plt\n",
    "import seaborn as sns\n",
    "%matplotlib inline"
   ]
  },
  {
   "cell_type": "code",
   "execution_count": 2,
   "metadata": {},
   "outputs": [],
   "source": [
    "from sklearn import metrics"
   ]
  },
  {
   "cell_type": "markdown",
   "metadata": {},
   "source": [
    "### UDF's"
   ]
  },
  {
   "cell_type": "code",
   "execution_count": 3,
   "metadata": {},
   "outputs": [],
   "source": [
    "# Create Data audit Report for continuous variables\n",
    "def continuous_var_summary(x):\n",
    "    return pd.Series([x.count(), x.isnull().sum(), x.sum(), x.mean(), x.median(),  \n",
    "                      x.std(), x.var(), x.min(), x.quantile(0.01), x.quantile(0.05),\n",
    "                          x.quantile(0.10),x.quantile(0.25),x.quantile(0.50),x.quantile(0.75), \n",
    "                              x.quantile(0.90),x.quantile(0.95), x.quantile(0.99),x.max()], \n",
    "                  index = ['N', 'NMISS', 'SUM', 'MEAN','MEDIAN', 'STD', 'VAR', 'MIN', 'P1', \n",
    "                               'P5' ,'P10' ,'P25' ,'P50' ,'P75' ,'P90' ,'P95' ,'P99' ,'MAX'])"
   ]
  },
  {
   "cell_type": "code",
   "execution_count": 4,
   "metadata": {},
   "outputs": [],
   "source": [
    "# Create Data audit Report for categorical variables\n",
    "def categorical_var_summary(x):\n",
    "    Mode = x.value_counts().sort_values(ascending = False)[0:1].reset_index()\n",
    "    return pd.Series([x.count(), x.isnull().sum(), Mode.iloc[0, 0], Mode.iloc[0, 1], \n",
    "                          round(Mode.iloc[0, 1] * 100/x.count(), 2)], \n",
    "                  index = ['N', 'NMISS', 'MODE', 'FREQ', 'PERCENT'])"
   ]
  },
  {
   "cell_type": "code",
   "execution_count": 5,
   "metadata": {},
   "outputs": [],
   "source": [
    "# Missing value imputation for categorical and continuous variables\n",
    "def missing_imputation(x, stats = 'mean'):\n",
    "    if (x.dtypes == 'float64') | (x.dtypes == 'int64'):\n",
    "        x = x.fillna(x.mean()) if stats == 'mean' else x.fillna(x.median())\n",
    "    return x"
   ]
  },
  {
   "cell_type": "code",
   "execution_count": 6,
   "metadata": {},
   "outputs": [],
   "source": [
    "# An utility function to create dummy variable\n",
    "def create_dummies(df, colname):\n",
    "    col_dummies = pd.get_dummies(df[colname], prefix = colname, drop_first = True)\n",
    "    df = pd.concat([df, col_dummies], axis = 1)\n",
    "    df.drop(colname, axis = 1, inplace = True )\n",
    "    return df"
   ]
  },
  {
   "cell_type": "markdown",
   "metadata": {},
   "source": [
    "### data import and inspection "
   ]
  },
  {
   "cell_type": "code",
   "execution_count": 7,
   "metadata": {},
   "outputs": [],
   "source": [
    "# Load the data\n",
    "hr_df = pd.read_csv('D:/SampleData/HR_attrition_data.csv' )"
   ]
  },
  {
   "cell_type": "code",
   "execution_count": 8,
   "metadata": {},
   "outputs": [
    {
     "data": {
      "text/plain": [
       "Index(['satisfaction_level', 'last_evaluation', 'number_project',\n",
       "       'average_montly_hours', 'time_spend_company', 'Work_accident', 'left',\n",
       "       'promotion_last_5years', 'department', 'salary'],\n",
       "      dtype='object')"
      ]
     },
     "execution_count": 8,
     "metadata": {},
     "output_type": "execute_result"
    }
   ],
   "source": [
    "# list all columns\n",
    "hr_df.columns"
   ]
  },
  {
   "cell_type": "code",
   "execution_count": 9,
   "metadata": {},
   "outputs": [
    {
     "name": "stdout",
     "output_type": "stream",
     "text": [
      "<class 'pandas.core.frame.DataFrame'>\n",
      "RangeIndex: 14999 entries, 0 to 14998\n",
      "Data columns (total 10 columns):\n",
      " #   Column                 Non-Null Count  Dtype  \n",
      "---  ------                 --------------  -----  \n",
      " 0   satisfaction_level     14999 non-null  float64\n",
      " 1   last_evaluation        14999 non-null  float64\n",
      " 2   number_project         14999 non-null  int64  \n",
      " 3   average_montly_hours   14999 non-null  int64  \n",
      " 4   time_spend_company     14999 non-null  int64  \n",
      " 5   Work_accident          14999 non-null  int64  \n",
      " 6   left                   14999 non-null  int64  \n",
      " 7   promotion_last_5years  14999 non-null  int64  \n",
      " 8   department             14999 non-null  object \n",
      " 9   salary                 14999 non-null  object \n",
      "dtypes: float64(2), int64(6), object(2)\n",
      "memory usage: 1.1+ MB\n"
     ]
    }
   ],
   "source": [
    "# meta data\n",
    "hr_df.info()"
   ]
  },
  {
   "cell_type": "code",
   "execution_count": 10,
   "metadata": {},
   "outputs": [
    {
     "data": {
      "text/html": [
       "<div>\n",
       "<style scoped>\n",
       "    .dataframe tbody tr th:only-of-type {\n",
       "        vertical-align: middle;\n",
       "    }\n",
       "\n",
       "    .dataframe tbody tr th {\n",
       "        vertical-align: top;\n",
       "    }\n",
       "\n",
       "    .dataframe thead th {\n",
       "        text-align: right;\n",
       "    }\n",
       "</style>\n",
       "<table border=\"1\" class=\"dataframe\">\n",
       "  <thead>\n",
       "    <tr style=\"text-align: right;\">\n",
       "      <th></th>\n",
       "      <th>satisfaction_level</th>\n",
       "      <th>last_evaluation</th>\n",
       "      <th>number_project</th>\n",
       "      <th>average_montly_hours</th>\n",
       "      <th>time_spend_company</th>\n",
       "      <th>Work_accident</th>\n",
       "      <th>left</th>\n",
       "      <th>promotion_last_5years</th>\n",
       "      <th>department</th>\n",
       "      <th>salary</th>\n",
       "    </tr>\n",
       "  </thead>\n",
       "  <tbody>\n",
       "    <tr>\n",
       "      <th>0</th>\n",
       "      <td>0.38</td>\n",
       "      <td>0.53</td>\n",
       "      <td>2</td>\n",
       "      <td>157</td>\n",
       "      <td>3</td>\n",
       "      <td>0</td>\n",
       "      <td>1</td>\n",
       "      <td>0</td>\n",
       "      <td>sales</td>\n",
       "      <td>low</td>\n",
       "    </tr>\n",
       "    <tr>\n",
       "      <th>1</th>\n",
       "      <td>0.80</td>\n",
       "      <td>0.86</td>\n",
       "      <td>5</td>\n",
       "      <td>262</td>\n",
       "      <td>6</td>\n",
       "      <td>0</td>\n",
       "      <td>1</td>\n",
       "      <td>0</td>\n",
       "      <td>sales</td>\n",
       "      <td>medium</td>\n",
       "    </tr>\n",
       "    <tr>\n",
       "      <th>2</th>\n",
       "      <td>0.11</td>\n",
       "      <td>0.88</td>\n",
       "      <td>7</td>\n",
       "      <td>272</td>\n",
       "      <td>4</td>\n",
       "      <td>0</td>\n",
       "      <td>1</td>\n",
       "      <td>0</td>\n",
       "      <td>sales</td>\n",
       "      <td>medium</td>\n",
       "    </tr>\n",
       "    <tr>\n",
       "      <th>3</th>\n",
       "      <td>0.72</td>\n",
       "      <td>0.87</td>\n",
       "      <td>5</td>\n",
       "      <td>223</td>\n",
       "      <td>5</td>\n",
       "      <td>0</td>\n",
       "      <td>1</td>\n",
       "      <td>0</td>\n",
       "      <td>sales</td>\n",
       "      <td>low</td>\n",
       "    </tr>\n",
       "    <tr>\n",
       "      <th>4</th>\n",
       "      <td>0.37</td>\n",
       "      <td>0.52</td>\n",
       "      <td>2</td>\n",
       "      <td>159</td>\n",
       "      <td>3</td>\n",
       "      <td>0</td>\n",
       "      <td>1</td>\n",
       "      <td>0</td>\n",
       "      <td>sales</td>\n",
       "      <td>low</td>\n",
       "    </tr>\n",
       "  </tbody>\n",
       "</table>\n",
       "</div>"
      ],
      "text/plain": [
       "   satisfaction_level  last_evaluation  number_project  average_montly_hours  \\\n",
       "0                0.38             0.53               2                   157   \n",
       "1                0.80             0.86               5                   262   \n",
       "2                0.11             0.88               7                   272   \n",
       "3                0.72             0.87               5                   223   \n",
       "4                0.37             0.52               2                   159   \n",
       "\n",
       "   time_spend_company  Work_accident  left  promotion_last_5years department  \\\n",
       "0                   3              0     1                      0      sales   \n",
       "1                   6              0     1                      0      sales   \n",
       "2                   4              0     1                      0      sales   \n",
       "3                   5              0     1                      0      sales   \n",
       "4                   3              0     1                      0      sales   \n",
       "\n",
       "   salary  \n",
       "0     low  \n",
       "1  medium  \n",
       "2  medium  \n",
       "3     low  \n",
       "4     low  "
      ]
     },
     "execution_count": 10,
     "metadata": {},
     "output_type": "execute_result"
    }
   ],
   "source": [
    "hr_df.head()"
   ]
  },
  {
   "cell_type": "code",
   "execution_count": 11,
   "metadata": {},
   "outputs": [
    {
     "data": {
      "text/plain": [
       "satisfaction_level        92\n",
       "last_evaluation           65\n",
       "number_project             6\n",
       "average_montly_hours     215\n",
       "time_spend_company         8\n",
       "Work_accident              2\n",
       "left                       2\n",
       "promotion_last_5years      2\n",
       "department                10\n",
       "salary                     3\n",
       "dtype: int64"
      ]
     },
     "execution_count": 11,
     "metadata": {},
     "output_type": "execute_result"
    }
   ],
   "source": [
    "hr_df.nunique()"
   ]
  },
  {
   "cell_type": "code",
   "execution_count": 12,
   "metadata": {},
   "outputs": [
    {
     "data": {
      "text/html": [
       "<div>\n",
       "<style scoped>\n",
       "    .dataframe tbody tr th:only-of-type {\n",
       "        vertical-align: middle;\n",
       "    }\n",
       "\n",
       "    .dataframe tbody tr th {\n",
       "        vertical-align: top;\n",
       "    }\n",
       "\n",
       "    .dataframe thead th {\n",
       "        text-align: right;\n",
       "    }\n",
       "</style>\n",
       "<table border=\"1\" class=\"dataframe\">\n",
       "  <thead>\n",
       "    <tr style=\"text-align: right;\">\n",
       "      <th></th>\n",
       "      <th>satisfaction_level</th>\n",
       "      <th>last_evaluation</th>\n",
       "      <th>number_project</th>\n",
       "      <th>average_montly_hours</th>\n",
       "      <th>time_spend_company</th>\n",
       "      <th>Work_accident</th>\n",
       "      <th>left</th>\n",
       "      <th>promotion_last_5years</th>\n",
       "    </tr>\n",
       "  </thead>\n",
       "  <tbody>\n",
       "    <tr>\n",
       "      <th>N</th>\n",
       "      <td>14999.000000</td>\n",
       "      <td>14999.000000</td>\n",
       "      <td>14999.000000</td>\n",
       "      <td>1.499900e+04</td>\n",
       "      <td>14999.000000</td>\n",
       "      <td>14999.000000</td>\n",
       "      <td>14999.000000</td>\n",
       "      <td>14999.000000</td>\n",
       "    </tr>\n",
       "    <tr>\n",
       "      <th>NMISS</th>\n",
       "      <td>0.000000</td>\n",
       "      <td>0.000000</td>\n",
       "      <td>0.000000</td>\n",
       "      <td>0.000000e+00</td>\n",
       "      <td>0.000000</td>\n",
       "      <td>0.000000</td>\n",
       "      <td>0.000000</td>\n",
       "      <td>0.000000</td>\n",
       "    </tr>\n",
       "    <tr>\n",
       "      <th>SUM</th>\n",
       "      <td>9191.890000</td>\n",
       "      <td>10740.810000</td>\n",
       "      <td>57042.000000</td>\n",
       "      <td>3.015554e+06</td>\n",
       "      <td>52470.000000</td>\n",
       "      <td>2169.000000</td>\n",
       "      <td>3571.000000</td>\n",
       "      <td>319.000000</td>\n",
       "    </tr>\n",
       "    <tr>\n",
       "      <th>MEAN</th>\n",
       "      <td>0.612834</td>\n",
       "      <td>0.716102</td>\n",
       "      <td>3.803054</td>\n",
       "      <td>2.010503e+02</td>\n",
       "      <td>3.498233</td>\n",
       "      <td>0.144610</td>\n",
       "      <td>0.238083</td>\n",
       "      <td>0.021268</td>\n",
       "    </tr>\n",
       "    <tr>\n",
       "      <th>MEDIAN</th>\n",
       "      <td>0.640000</td>\n",
       "      <td>0.720000</td>\n",
       "      <td>4.000000</td>\n",
       "      <td>2.000000e+02</td>\n",
       "      <td>3.000000</td>\n",
       "      <td>0.000000</td>\n",
       "      <td>0.000000</td>\n",
       "      <td>0.000000</td>\n",
       "    </tr>\n",
       "    <tr>\n",
       "      <th>STD</th>\n",
       "      <td>0.248631</td>\n",
       "      <td>0.171169</td>\n",
       "      <td>1.232592</td>\n",
       "      <td>4.994310e+01</td>\n",
       "      <td>1.460136</td>\n",
       "      <td>0.351719</td>\n",
       "      <td>0.425924</td>\n",
       "      <td>0.144281</td>\n",
       "    </tr>\n",
       "    <tr>\n",
       "      <th>VAR</th>\n",
       "      <td>0.061817</td>\n",
       "      <td>0.029299</td>\n",
       "      <td>1.519284</td>\n",
       "      <td>2.494313e+03</td>\n",
       "      <td>2.131998</td>\n",
       "      <td>0.123706</td>\n",
       "      <td>0.181411</td>\n",
       "      <td>0.020817</td>\n",
       "    </tr>\n",
       "    <tr>\n",
       "      <th>MIN</th>\n",
       "      <td>0.090000</td>\n",
       "      <td>0.360000</td>\n",
       "      <td>2.000000</td>\n",
       "      <td>9.600000e+01</td>\n",
       "      <td>2.000000</td>\n",
       "      <td>0.000000</td>\n",
       "      <td>0.000000</td>\n",
       "      <td>0.000000</td>\n",
       "    </tr>\n",
       "    <tr>\n",
       "      <th>P1</th>\n",
       "      <td>0.090000</td>\n",
       "      <td>0.390000</td>\n",
       "      <td>2.000000</td>\n",
       "      <td>1.040000e+02</td>\n",
       "      <td>2.000000</td>\n",
       "      <td>0.000000</td>\n",
       "      <td>0.000000</td>\n",
       "      <td>0.000000</td>\n",
       "    </tr>\n",
       "    <tr>\n",
       "      <th>P5</th>\n",
       "      <td>0.110000</td>\n",
       "      <td>0.460000</td>\n",
       "      <td>2.000000</td>\n",
       "      <td>1.300000e+02</td>\n",
       "      <td>2.000000</td>\n",
       "      <td>0.000000</td>\n",
       "      <td>0.000000</td>\n",
       "      <td>0.000000</td>\n",
       "    </tr>\n",
       "    <tr>\n",
       "      <th>P10</th>\n",
       "      <td>0.210000</td>\n",
       "      <td>0.490000</td>\n",
       "      <td>2.000000</td>\n",
       "      <td>1.370000e+02</td>\n",
       "      <td>2.000000</td>\n",
       "      <td>0.000000</td>\n",
       "      <td>0.000000</td>\n",
       "      <td>0.000000</td>\n",
       "    </tr>\n",
       "    <tr>\n",
       "      <th>P25</th>\n",
       "      <td>0.440000</td>\n",
       "      <td>0.560000</td>\n",
       "      <td>3.000000</td>\n",
       "      <td>1.560000e+02</td>\n",
       "      <td>3.000000</td>\n",
       "      <td>0.000000</td>\n",
       "      <td>0.000000</td>\n",
       "      <td>0.000000</td>\n",
       "    </tr>\n",
       "    <tr>\n",
       "      <th>P50</th>\n",
       "      <td>0.640000</td>\n",
       "      <td>0.720000</td>\n",
       "      <td>4.000000</td>\n",
       "      <td>2.000000e+02</td>\n",
       "      <td>3.000000</td>\n",
       "      <td>0.000000</td>\n",
       "      <td>0.000000</td>\n",
       "      <td>0.000000</td>\n",
       "    </tr>\n",
       "    <tr>\n",
       "      <th>P75</th>\n",
       "      <td>0.820000</td>\n",
       "      <td>0.870000</td>\n",
       "      <td>5.000000</td>\n",
       "      <td>2.450000e+02</td>\n",
       "      <td>4.000000</td>\n",
       "      <td>0.000000</td>\n",
       "      <td>0.000000</td>\n",
       "      <td>0.000000</td>\n",
       "    </tr>\n",
       "    <tr>\n",
       "      <th>P90</th>\n",
       "      <td>0.920000</td>\n",
       "      <td>0.950000</td>\n",
       "      <td>5.000000</td>\n",
       "      <td>2.670000e+02</td>\n",
       "      <td>5.000000</td>\n",
       "      <td>1.000000</td>\n",
       "      <td>1.000000</td>\n",
       "      <td>0.000000</td>\n",
       "    </tr>\n",
       "    <tr>\n",
       "      <th>P95</th>\n",
       "      <td>0.960000</td>\n",
       "      <td>0.980000</td>\n",
       "      <td>6.000000</td>\n",
       "      <td>2.750000e+02</td>\n",
       "      <td>6.000000</td>\n",
       "      <td>1.000000</td>\n",
       "      <td>1.000000</td>\n",
       "      <td>0.000000</td>\n",
       "    </tr>\n",
       "    <tr>\n",
       "      <th>P99</th>\n",
       "      <td>0.990000</td>\n",
       "      <td>1.000000</td>\n",
       "      <td>7.000000</td>\n",
       "      <td>3.010000e+02</td>\n",
       "      <td>10.000000</td>\n",
       "      <td>1.000000</td>\n",
       "      <td>1.000000</td>\n",
       "      <td>1.000000</td>\n",
       "    </tr>\n",
       "    <tr>\n",
       "      <th>MAX</th>\n",
       "      <td>1.000000</td>\n",
       "      <td>1.000000</td>\n",
       "      <td>7.000000</td>\n",
       "      <td>3.100000e+02</td>\n",
       "      <td>10.000000</td>\n",
       "      <td>1.000000</td>\n",
       "      <td>1.000000</td>\n",
       "      <td>1.000000</td>\n",
       "    </tr>\n",
       "  </tbody>\n",
       "</table>\n",
       "</div>"
      ],
      "text/plain": [
       "        satisfaction_level  last_evaluation  number_project  \\\n",
       "N             14999.000000     14999.000000    14999.000000   \n",
       "NMISS             0.000000         0.000000        0.000000   \n",
       "SUM            9191.890000     10740.810000    57042.000000   \n",
       "MEAN              0.612834         0.716102        3.803054   \n",
       "MEDIAN            0.640000         0.720000        4.000000   \n",
       "STD               0.248631         0.171169        1.232592   \n",
       "VAR               0.061817         0.029299        1.519284   \n",
       "MIN               0.090000         0.360000        2.000000   \n",
       "P1                0.090000         0.390000        2.000000   \n",
       "P5                0.110000         0.460000        2.000000   \n",
       "P10               0.210000         0.490000        2.000000   \n",
       "P25               0.440000         0.560000        3.000000   \n",
       "P50               0.640000         0.720000        4.000000   \n",
       "P75               0.820000         0.870000        5.000000   \n",
       "P90               0.920000         0.950000        5.000000   \n",
       "P95               0.960000         0.980000        6.000000   \n",
       "P99               0.990000         1.000000        7.000000   \n",
       "MAX               1.000000         1.000000        7.000000   \n",
       "\n",
       "        average_montly_hours  time_spend_company  Work_accident          left  \\\n",
       "N               1.499900e+04        14999.000000   14999.000000  14999.000000   \n",
       "NMISS           0.000000e+00            0.000000       0.000000      0.000000   \n",
       "SUM             3.015554e+06        52470.000000    2169.000000   3571.000000   \n",
       "MEAN            2.010503e+02            3.498233       0.144610      0.238083   \n",
       "MEDIAN          2.000000e+02            3.000000       0.000000      0.000000   \n",
       "STD             4.994310e+01            1.460136       0.351719      0.425924   \n",
       "VAR             2.494313e+03            2.131998       0.123706      0.181411   \n",
       "MIN             9.600000e+01            2.000000       0.000000      0.000000   \n",
       "P1              1.040000e+02            2.000000       0.000000      0.000000   \n",
       "P5              1.300000e+02            2.000000       0.000000      0.000000   \n",
       "P10             1.370000e+02            2.000000       0.000000      0.000000   \n",
       "P25             1.560000e+02            3.000000       0.000000      0.000000   \n",
       "P50             2.000000e+02            3.000000       0.000000      0.000000   \n",
       "P75             2.450000e+02            4.000000       0.000000      0.000000   \n",
       "P90             2.670000e+02            5.000000       1.000000      1.000000   \n",
       "P95             2.750000e+02            6.000000       1.000000      1.000000   \n",
       "P99             3.010000e+02           10.000000       1.000000      1.000000   \n",
       "MAX             3.100000e+02           10.000000       1.000000      1.000000   \n",
       "\n",
       "        promotion_last_5years  \n",
       "N                14999.000000  \n",
       "NMISS                0.000000  \n",
       "SUM                319.000000  \n",
       "MEAN                 0.021268  \n",
       "MEDIAN               0.000000  \n",
       "STD                  0.144281  \n",
       "VAR                  0.020817  \n",
       "MIN                  0.000000  \n",
       "P1                   0.000000  \n",
       "P5                   0.000000  \n",
       "P10                  0.000000  \n",
       "P25                  0.000000  \n",
       "P50                  0.000000  \n",
       "P75                  0.000000  \n",
       "P90                  0.000000  \n",
       "P95                  0.000000  \n",
       "P99                  1.000000  \n",
       "MAX                  1.000000  "
      ]
     },
     "execution_count": 12,
     "metadata": {},
     "output_type": "execute_result"
    }
   ],
   "source": [
    "hr_df.select_dtypes(['int64', 'float64']).apply(continuous_var_summary)"
   ]
  },
  {
   "cell_type": "markdown",
   "metadata": {},
   "source": [
    "The summary statistics for Work_accident, left and promotion_last_5years does not make sense, as they are categorical variables"
   ]
  },
  {
   "cell_type": "markdown",
   "metadata": {},
   "source": [
    "### PREDICTIVE MODEL: Build a model to predict if an employee will leave the company\n",
    "> dependant variable is **left**"
   ]
  },
  {
   "cell_type": "code",
   "execution_count": 13,
   "metadata": {},
   "outputs": [],
   "source": [
    "# Encoding Categorical Features\n",
    "numerical_features = ['satisfaction_level', 'last_evaluation', 'number_project',\n",
    "     'average_montly_hours', 'time_spend_company']\n",
    "\n",
    "categorical_features = ['Work_accident', 'promotion_last_5years', 'department', 'salary']"
   ]
  },
  {
   "cell_type": "code",
   "execution_count": 14,
   "metadata": {},
   "outputs": [],
   "source": [
    "for c_feature in categorical_features:\n",
    "    hr_df = create_dummies(hr_df, c_feature )"
   ]
  },
  {
   "cell_type": "code",
   "execution_count": 15,
   "metadata": {},
   "outputs": [
    {
     "data": {
      "text/html": [
       "<div>\n",
       "<style scoped>\n",
       "    .dataframe tbody tr th:only-of-type {\n",
       "        vertical-align: middle;\n",
       "    }\n",
       "\n",
       "    .dataframe tbody tr th {\n",
       "        vertical-align: top;\n",
       "    }\n",
       "\n",
       "    .dataframe thead th {\n",
       "        text-align: right;\n",
       "    }\n",
       "</style>\n",
       "<table border=\"1\" class=\"dataframe\">\n",
       "  <thead>\n",
       "    <tr style=\"text-align: right;\">\n",
       "      <th></th>\n",
       "      <th>satisfaction_level</th>\n",
       "      <th>last_evaluation</th>\n",
       "      <th>number_project</th>\n",
       "      <th>average_montly_hours</th>\n",
       "      <th>time_spend_company</th>\n",
       "      <th>left</th>\n",
       "      <th>Work_accident_1</th>\n",
       "      <th>promotion_last_5years_1</th>\n",
       "      <th>department_RandD</th>\n",
       "      <th>department_accounting</th>\n",
       "      <th>department_hr</th>\n",
       "      <th>department_management</th>\n",
       "      <th>department_marketing</th>\n",
       "      <th>department_product_mng</th>\n",
       "      <th>department_sales</th>\n",
       "      <th>department_support</th>\n",
       "      <th>department_technical</th>\n",
       "      <th>salary_low</th>\n",
       "      <th>salary_medium</th>\n",
       "    </tr>\n",
       "  </thead>\n",
       "  <tbody>\n",
       "    <tr>\n",
       "      <th>0</th>\n",
       "      <td>0.38</td>\n",
       "      <td>0.53</td>\n",
       "      <td>2</td>\n",
       "      <td>157</td>\n",
       "      <td>3</td>\n",
       "      <td>1</td>\n",
       "      <td>0</td>\n",
       "      <td>0</td>\n",
       "      <td>0</td>\n",
       "      <td>0</td>\n",
       "      <td>0</td>\n",
       "      <td>0</td>\n",
       "      <td>0</td>\n",
       "      <td>0</td>\n",
       "      <td>1</td>\n",
       "      <td>0</td>\n",
       "      <td>0</td>\n",
       "      <td>1</td>\n",
       "      <td>0</td>\n",
       "    </tr>\n",
       "    <tr>\n",
       "      <th>1</th>\n",
       "      <td>0.80</td>\n",
       "      <td>0.86</td>\n",
       "      <td>5</td>\n",
       "      <td>262</td>\n",
       "      <td>6</td>\n",
       "      <td>1</td>\n",
       "      <td>0</td>\n",
       "      <td>0</td>\n",
       "      <td>0</td>\n",
       "      <td>0</td>\n",
       "      <td>0</td>\n",
       "      <td>0</td>\n",
       "      <td>0</td>\n",
       "      <td>0</td>\n",
       "      <td>1</td>\n",
       "      <td>0</td>\n",
       "      <td>0</td>\n",
       "      <td>0</td>\n",
       "      <td>1</td>\n",
       "    </tr>\n",
       "    <tr>\n",
       "      <th>2</th>\n",
       "      <td>0.11</td>\n",
       "      <td>0.88</td>\n",
       "      <td>7</td>\n",
       "      <td>272</td>\n",
       "      <td>4</td>\n",
       "      <td>1</td>\n",
       "      <td>0</td>\n",
       "      <td>0</td>\n",
       "      <td>0</td>\n",
       "      <td>0</td>\n",
       "      <td>0</td>\n",
       "      <td>0</td>\n",
       "      <td>0</td>\n",
       "      <td>0</td>\n",
       "      <td>1</td>\n",
       "      <td>0</td>\n",
       "      <td>0</td>\n",
       "      <td>0</td>\n",
       "      <td>1</td>\n",
       "    </tr>\n",
       "    <tr>\n",
       "      <th>3</th>\n",
       "      <td>0.72</td>\n",
       "      <td>0.87</td>\n",
       "      <td>5</td>\n",
       "      <td>223</td>\n",
       "      <td>5</td>\n",
       "      <td>1</td>\n",
       "      <td>0</td>\n",
       "      <td>0</td>\n",
       "      <td>0</td>\n",
       "      <td>0</td>\n",
       "      <td>0</td>\n",
       "      <td>0</td>\n",
       "      <td>0</td>\n",
       "      <td>0</td>\n",
       "      <td>1</td>\n",
       "      <td>0</td>\n",
       "      <td>0</td>\n",
       "      <td>1</td>\n",
       "      <td>0</td>\n",
       "    </tr>\n",
       "    <tr>\n",
       "      <th>4</th>\n",
       "      <td>0.37</td>\n",
       "      <td>0.52</td>\n",
       "      <td>2</td>\n",
       "      <td>159</td>\n",
       "      <td>3</td>\n",
       "      <td>1</td>\n",
       "      <td>0</td>\n",
       "      <td>0</td>\n",
       "      <td>0</td>\n",
       "      <td>0</td>\n",
       "      <td>0</td>\n",
       "      <td>0</td>\n",
       "      <td>0</td>\n",
       "      <td>0</td>\n",
       "      <td>1</td>\n",
       "      <td>0</td>\n",
       "      <td>0</td>\n",
       "      <td>1</td>\n",
       "      <td>0</td>\n",
       "    </tr>\n",
       "  </tbody>\n",
       "</table>\n",
       "</div>"
      ],
      "text/plain": [
       "   satisfaction_level  last_evaluation  number_project  average_montly_hours  \\\n",
       "0                0.38             0.53               2                   157   \n",
       "1                0.80             0.86               5                   262   \n",
       "2                0.11             0.88               7                   272   \n",
       "3                0.72             0.87               5                   223   \n",
       "4                0.37             0.52               2                   159   \n",
       "\n",
       "   time_spend_company  left  Work_accident_1  promotion_last_5years_1  \\\n",
       "0                   3     1                0                        0   \n",
       "1                   6     1                0                        0   \n",
       "2                   4     1                0                        0   \n",
       "3                   5     1                0                        0   \n",
       "4                   3     1                0                        0   \n",
       "\n",
       "   department_RandD  department_accounting  department_hr  \\\n",
       "0                 0                      0              0   \n",
       "1                 0                      0              0   \n",
       "2                 0                      0              0   \n",
       "3                 0                      0              0   \n",
       "4                 0                      0              0   \n",
       "\n",
       "   department_management  department_marketing  department_product_mng  \\\n",
       "0                      0                     0                       0   \n",
       "1                      0                     0                       0   \n",
       "2                      0                     0                       0   \n",
       "3                      0                     0                       0   \n",
       "4                      0                     0                       0   \n",
       "\n",
       "   department_sales  department_support  department_technical  salary_low  \\\n",
       "0                 1                   0                     0           1   \n",
       "1                 1                   0                     0           0   \n",
       "2                 1                   0                     0           0   \n",
       "3                 1                   0                     0           1   \n",
       "4                 1                   0                     0           1   \n",
       "\n",
       "   salary_medium  \n",
       "0              0  \n",
       "1              1  \n",
       "2              1  \n",
       "3              0  \n",
       "4              0  "
      ]
     },
     "execution_count": 15,
     "metadata": {},
     "output_type": "execute_result"
    }
   ],
   "source": [
    "hr_df.head()"
   ]
  },
  {
   "cell_type": "code",
   "execution_count": 16,
   "metadata": {},
   "outputs": [],
   "source": [
    "# get all the feature variables\n",
    "feature_columns = hr_df.columns.difference( ['left'] )"
   ]
  },
  {
   "cell_type": "code",
   "execution_count": 17,
   "metadata": {},
   "outputs": [
    {
     "data": {
      "text/plain": [
       "Index(['Work_accident_1', 'average_montly_hours', 'department_RandD',\n",
       "       'department_accounting', 'department_hr', 'department_management',\n",
       "       'department_marketing', 'department_product_mng', 'department_sales',\n",
       "       'department_support', 'department_technical', 'last_evaluation',\n",
       "       'number_project', 'promotion_last_5years_1', 'salary_low',\n",
       "       'salary_medium', 'satisfaction_level', 'time_spend_company'],\n",
       "      dtype='object')"
      ]
     },
     "execution_count": 17,
     "metadata": {},
     "output_type": "execute_result"
    }
   ],
   "source": [
    "feature_columns"
   ]
  },
  {
   "cell_type": "code",
   "execution_count": 18,
   "metadata": {},
   "outputs": [
    {
     "data": {
      "text/plain": [
       "0    11428\n",
       "1     3571\n",
       "Name: left, dtype: int64"
      ]
     },
     "execution_count": 18,
     "metadata": {},
     "output_type": "execute_result"
    }
   ],
   "source": [
    "hr_df.left.value_counts()"
   ]
  },
  {
   "cell_type": "code",
   "execution_count": 19,
   "metadata": {},
   "outputs": [
    {
     "data": {
      "text/plain": [
       "0    0.761917\n",
       "1    0.238083\n",
       "Name: left, dtype: float64"
      ]
     },
     "execution_count": 19,
     "metadata": {},
     "output_type": "execute_result"
    }
   ],
   "source": [
    "hr_df.left.value_counts() / hr_df.shape[0]"
   ]
  },
  {
   "cell_type": "code",
   "execution_count": 20,
   "metadata": {},
   "outputs": [
    {
     "name": "stderr",
     "output_type": "stream",
     "text": [
      "C:\\Users\\DELL\\anaconda3\\lib\\site-packages\\seaborn\\_decorators.py:36: FutureWarning: Pass the following variable as a keyword arg: x. From version 0.12, the only valid positional argument will be `data`, and passing other arguments without an explicit keyword will result in an error or misinterpretation.\n",
      "  warnings.warn(\n"
     ]
    },
    {
     "data": {
      "image/png": "[encoded data removed]",
      "text/plain": [
       "<Figure size 432x288 with 1 Axes>"
      ]
     },
     "metadata": {
      "needs_background": "light"
     },
     "output_type": "display_data"
    }
   ],
   "source": [
    "sns.countplot(hr_df.left)\n",
    "plt.show()"
   ]
  },
  {
   "cell_type": "markdown",
   "metadata": {},
   "source": [
    "### data split for training and testing"
   ]
  },
  {
   "cell_type": "code",
   "execution_count": 21,
   "metadata": {},
   "outputs": [],
   "source": [
    "# import the package\n",
    "from sklearn.model_selection import train_test_split\n",
    "\n",
    "# get training and testing datasets\n",
    "train_X, test_X, train_y, test_y = train_test_split( hr_df[feature_columns], \n",
    "                                                        hr_df['left'], \n",
    "                                                        test_size = 0.3,\n",
    "                                                        random_state = 123)"
   ]
  },
  {
   "cell_type": "markdown",
   "metadata": {},
   "source": [
    "### build logistic regression model"
   ]
  },
  {
   "cell_type": "markdown",
   "metadata": {},
   "source": [
    "use TAB key to get the suggestions"
   ]
  },
  {
   "cell_type": "code",
   "execution_count": 91,
   "metadata": {},
   "outputs": [],
   "source": [
    "# Building Models\n",
    "from sklearn.linear_model import LogisticRegression\n",
    "from sklearn.metrics import roc_auc_score, classification_report, confusion_matrix, accuracy_score, roc_curve"
   ]
  },
  {
   "cell_type": "code",
   "execution_count": 25,
   "metadata": {},
   "outputs": [],
   "source": [
    "# define the model equation and fit the model on train data\n",
    "logreg = LogisticRegression( max_iter = 1000 ).fit( train_X, train_y )"
   ]
  },
  {
   "cell_type": "code",
   "execution_count": 40,
   "metadata": {
    "scrolled": true
   },
   "outputs": [
    {
     "data": {
      "text/html": [
       "<div>\n",
       "<style scoped>\n",
       "    .dataframe tbody tr th:only-of-type {\n",
       "        vertical-align: middle;\n",
       "    }\n",
       "\n",
       "    .dataframe tbody tr th {\n",
       "        vertical-align: top;\n",
       "    }\n",
       "\n",
       "    .dataframe thead th {\n",
       "        text-align: right;\n",
       "    }\n",
       "</style>\n",
       "<table border=\"1\" class=\"dataframe\">\n",
       "  <thead>\n",
       "    <tr style=\"text-align: right;\">\n",
       "      <th></th>\n",
       "      <th>coefficient</th>\n",
       "    </tr>\n",
       "  </thead>\n",
       "  <tbody>\n",
       "    <tr>\n",
       "      <th>Work_accident_1</th>\n",
       "      <td>-1.538426</td>\n",
       "    </tr>\n",
       "    <tr>\n",
       "      <th>average_montly_hours</th>\n",
       "      <td>0.004431</td>\n",
       "    </tr>\n",
       "    <tr>\n",
       "      <th>department_RandD</th>\n",
       "      <td>-0.418887</td>\n",
       "    </tr>\n",
       "    <tr>\n",
       "      <th>department_accounting</th>\n",
       "      <td>0.195707</td>\n",
       "    </tr>\n",
       "    <tr>\n",
       "      <th>department_hr</th>\n",
       "      <td>0.393217</td>\n",
       "    </tr>\n",
       "    <tr>\n",
       "      <th>department_management</th>\n",
       "      <td>-0.419549</td>\n",
       "    </tr>\n",
       "    <tr>\n",
       "      <th>department_marketing</th>\n",
       "      <td>0.148511</td>\n",
       "    </tr>\n",
       "    <tr>\n",
       "      <th>department_product_mng</th>\n",
       "      <td>-0.042715</td>\n",
       "    </tr>\n",
       "    <tr>\n",
       "      <th>department_sales</th>\n",
       "      <td>0.124996</td>\n",
       "    </tr>\n",
       "    <tr>\n",
       "      <th>department_support</th>\n",
       "      <td>0.164691</td>\n",
       "    </tr>\n",
       "    <tr>\n",
       "      <th>department_technical</th>\n",
       "      <td>0.244422</td>\n",
       "    </tr>\n",
       "    <tr>\n",
       "      <th>last_evaluation</th>\n",
       "      <td>0.865164</td>\n",
       "    </tr>\n",
       "    <tr>\n",
       "      <th>number_project</th>\n",
       "      <td>-0.309833</td>\n",
       "    </tr>\n",
       "    <tr>\n",
       "      <th>promotion_last_5years_1</th>\n",
       "      <td>-1.192846</td>\n",
       "    </tr>\n",
       "    <tr>\n",
       "      <th>salary_low</th>\n",
       "      <td>1.854702</td>\n",
       "    </tr>\n",
       "    <tr>\n",
       "      <th>salary_medium</th>\n",
       "      <td>1.324132</td>\n",
       "    </tr>\n",
       "    <tr>\n",
       "      <th>satisfaction_level</th>\n",
       "      <td>-4.072881</td>\n",
       "    </tr>\n",
       "    <tr>\n",
       "      <th>time_spend_company</th>\n",
       "      <td>0.262735</td>\n",
       "    </tr>\n",
       "  </tbody>\n",
       "</table>\n",
       "</div>"
      ],
      "text/plain": [
       "                         coefficient\n",
       "Work_accident_1            -1.538426\n",
       "average_montly_hours        0.004431\n",
       "department_RandD           -0.418887\n",
       "department_accounting       0.195707\n",
       "department_hr               0.393217\n",
       "department_management      -0.419549\n",
       "department_marketing        0.148511\n",
       "department_product_mng     -0.042715\n",
       "department_sales            0.124996\n",
       "department_support          0.164691\n",
       "department_technical        0.244422\n",
       "last_evaluation             0.865164\n",
       "number_project             -0.309833\n",
       "promotion_last_5years_1    -1.192846\n",
       "salary_low                  1.854702\n",
       "salary_medium               1.324132\n",
       "satisfaction_level         -4.072881\n",
       "time_spend_company          0.262735"
      ]
     },
     "execution_count": 40,
     "metadata": {},
     "output_type": "execute_result"
    }
   ],
   "source": [
    "# get the coefficients for reference\n",
    "pd.DataFrame( index = pd.Series(feature_columns), data = logreg.coef_[0], columns = ['coefficient'] )"
   ]
  },
  {
   "cell_type": "code",
   "execution_count": 41,
   "metadata": {},
   "outputs": [
    {
     "data": {
      "text/plain": [
       "-1.666320184228273"
      ]
     },
     "execution_count": 41,
     "metadata": {},
     "output_type": "execute_result"
    }
   ],
   "source": [
    "# get the value of intercept\n",
    "logreg.intercept_[0]"
   ]
  },
  {
   "cell_type": "code",
   "execution_count": 34,
   "metadata": {},
   "outputs": [],
   "source": [
    "# predict the output probabilities\n",
    "y_train_pred_proba = logreg.predict_proba( train_X )[:, 1]\n",
    "y_test_pred_proba = logreg.predict_proba( test_X )[:, 1]"
   ]
  },
  {
   "cell_type": "code",
   "execution_count": 35,
   "metadata": {},
   "outputs": [
    {
     "name": "stdout",
     "output_type": "stream",
     "text": [
      "train data:  0.822817152144018\n",
      "train data:  0.8197044541545596\n"
     ]
    }
   ],
   "source": [
    "# scoring of the model, roc_auc_score\n",
    "print( 'train data: ', roc_auc_score( train_y, y_train_pred_proba ) )\n",
    "print( 'train data: ', roc_auc_score( test_y, y_test_pred_proba ) )"
   ]
  },
  {
   "cell_type": "code",
   "execution_count": 43,
   "metadata": {},
   "outputs": [
    {
     "name": "stdout",
     "output_type": "stream",
     "text": [
      "train data:  0.7887417849318983\n",
      "train data:  0.7897777777777778\n"
     ]
    }
   ],
   "source": [
    "# accuracy at defulat 0.5 cutoff\n",
    "print( 'train data: ', accuracy_score( train_y, logreg.predict( train_X ) ) )\n",
    "print( 'train data: ', accuracy_score( test_y, logreg.predict( test_X ) ) )"
   ]
  },
  {
   "cell_type": "code",
   "execution_count": 68,
   "metadata": {},
   "outputs": [
    {
     "data": {
      "text/plain": [
       "array([[ 865, 1635],\n",
       "       [ 583, 7416]], dtype=int64)"
      ]
     },
     "execution_count": 68,
     "metadata": {},
     "output_type": "execute_result"
    }
   ],
   "source": [
    "# confusion matrix - at defulat 0.5 cutoff - train\n",
    "confusion_matrix( train_y, logreg.predict( train_X ) )[::-1, ::-1]"
   ]
  },
  {
   "cell_type": "code",
   "execution_count": 60,
   "metadata": {},
   "outputs": [
    {
     "data": {
      "text/plain": [
       "array([[ 349,  722],\n",
       "       [ 224, 3205]], dtype=int64)"
      ]
     },
     "execution_count": 60,
     "metadata": {},
     "output_type": "execute_result"
    }
   ],
   "source": [
    "# confusion matrix - at defulat 0.5 cutoff - test\n",
    "confusion_matrix( test_y, logreg.predict( test_X ) )[::-1, ::-1]"
   ]
  },
  {
   "cell_type": "code",
   "execution_count": 54,
   "metadata": {},
   "outputs": [
    {
     "name": "stdout",
     "output_type": "stream",
     "text": [
      "              precision    recall  f1-score   support\n",
      "\n",
      "           0       0.82      0.93      0.87      7999\n",
      "           1       0.60      0.35      0.44      2500\n",
      "\n",
      "    accuracy                           0.79     10499\n",
      "   macro avg       0.71      0.64      0.65     10499\n",
      "weighted avg       0.77      0.79      0.77     10499\n",
      "\n",
      "\n",
      "\n",
      "              precision    recall  f1-score   support\n",
      "\n",
      "           0       0.82      0.93      0.87      3429\n",
      "           1       0.61      0.33      0.42      1071\n",
      "\n",
      "    accuracy                           0.79      4500\n",
      "   macro avg       0.71      0.63      0.65      4500\n",
      "weighted avg       0.77      0.79      0.77      4500\n",
      "\n"
     ]
    }
   ],
   "source": [
    "# classification report - at defulat 0.5 cutoff\n",
    "print( classification_report( train_y, logreg.predict( train_X ) ) )\n",
    "print('\\n')\n",
    "print( classification_report( test_y, logreg.predict( test_X ) ) )"
   ]
  },
  {
   "cell_type": "markdown",
   "metadata": {},
   "source": [
    "#### get the best cutoff\n",
    "\n",
    "1. for loop to get the best cutoff where we have max of Senstivity + Specificity\n",
    "2. chart - distribution plot\n",
    "3. chart - roc_aur_curve\n"
   ]
  },
  {
   "cell_type": "markdown",
   "metadata": {},
   "source": [
    "#### Estimate the best cutoffs - Method 1 (for loop)"
   ]
  },
  {
   "cell_type": "code",
   "execution_count": 69,
   "metadata": {},
   "outputs": [
    {
     "data": {
      "text/plain": [
       "0    0.25\n",
       "Name: Cutoff, dtype: float64"
      ]
     },
     "execution_count": 69,
     "metadata": {},
     "output_type": "execute_result"
    }
   ],
   "source": [
    "# declare empty dataframe\n",
    "cm_scores = pd.DataFrame()\n",
    "\n",
    "for iCutoff in np.arange(0, 1, 0.005):\n",
    "    \n",
    "    # do the predictions at the cutoff\n",
    "    y_predict = np.where( y_train_pred_proba >= iCutoff, 1, 0 )\n",
    "    \n",
    "    # create the confusion matrix with predicted y\n",
    "    cm = metrics.confusion_matrix( train_y, y_predict )[::-1, ::-1]\n",
    "    \n",
    "    # get the sentivity + specificity at the cutoff\n",
    "    Total = cm[0, 0]/cm.sum(axis = 1)[0] + cm[1, 1]/cm.sum(axis = 1)[1]\n",
    "    \n",
    "    # append the data row wise in the dataframe\n",
    "    cm_scores = pd.concat( [cm_scores, pd.DataFrame([iCutoff, Total]).T ], axis = 0 )\n",
    "    \n",
    "cm_scores.columns = ['Cutoff', 'Score']\n",
    "cm_scores.loc[ cm_scores.Score == cm_scores.Score.max(), 'Cutoff']"
   ]
  },
  {
   "cell_type": "markdown",
   "metadata": {},
   "source": [
    "#### Estimate the best cutoffs - Method 2"
   ]
  },
  {
   "cell_type": "code",
   "execution_count": 83,
   "metadata": {},
   "outputs": [],
   "source": [
    "hr_train_pred = pd.concat( [train_y.reset_index( drop = True ), \n",
    "                            pd.Series( y_train_pred_proba, name = 'predict_proba' ) ], axis = 1 )\n",
    "\n",
    "hr_test_pred = pd.concat( [test_y.reset_index( drop = True ), \n",
    "                            pd.Series( y_test_pred_proba, name = 'predict_proba' ) ], axis = 1 )"
   ]
  },
  {
   "cell_type": "code",
   "execution_count": 93,
   "metadata": {
    "scrolled": true
   },
   "outputs": [
    {
     "name": "stderr",
     "output_type": "stream",
     "text": [
      "C:\\Users\\DELL\\anaconda3\\lib\\site-packages\\seaborn\\distributions.py:2557: FutureWarning: `distplot` is a deprecated function and will be removed in a future version. Please adapt your code to use either `displot` (a figure-level function with similar flexibility) or `histplot` (an axes-level function for histograms).\n",
      "  warnings.warn(msg, FutureWarning)\n"
     ]
    },
    {
     "data": {
      "application/javascript": [
       "/* Put everything inside the global mpl namespace */\n",
       "/* global mpl */\n",
       "window.mpl = {};\n",
       "\n",
       "mpl.get_websocket_type = function () {\n",
       "    if (typeof WebSocket !== 'undefined') {\n",
       "        return WebSocket;\n",
       "    } else if (typeof MozWebSocket !== 'undefined') {\n",
       "        return MozWebSocket;\n",
       "    } else {\n",
       "        alert(\n",
       "            'Your browser does not have WebSocket support. ' +\n",
       "                'Please try Chrome, Safari or Firefox ≥ 6. ' +\n",
       "                'Firefox 4 and 5 are also supported but you ' +\n",
       "                'have to enable WebSockets in about:config.'\n",
       "        );\n",
       "    }\n",
       "};\n",
       "\n",
       "mpl.figure = function (figure_id, websocket, ondownload, parent_element) {\n",
       "    this.id = figure_id;\n",
       "\n",
       "    this.ws = websocket;\n",
       "\n",
       "    this.supports_binary = this.ws.binaryType !== undefined;\n",
       "\n",
       "    if (!this.supports_binary) {\n",
       "        var warnings = document.getElementById('mpl-warnings');\n",
       "        if (warnings) {\n",
       "            warnings.style.display = 'block';\n",
       "            warnings.textContent =\n",
       "                'This browser does not support binary websocket messages. ' +\n",
       "                'Performance may be slow.';\n",
       "        }\n",
       "    }\n",
       "\n",
       "    this.imageObj = new Image();\n",
       "\n",
       "    this.context = undefined;\n",
       "    this.message = undefined;\n",
       "    this.canvas = undefined;\n",
       "    this.rubberband_canvas = undefined;\n",
       "    this.rubberband_context = undefined;\n",
       "    this.format_dropdown = undefined;\n",
       "\n",
       "    this.image_mode = 'full';\n",
       "\n",
       "    this.root = document.createElement('div');\n",
       "    this.root.setAttribute('style', 'display: inline-block');\n",
       "    this._root_extra_style(this.root);\n",
       "\n",
       "    parent_element.appendChild(this.root);\n",
       "\n",
       "    this._init_header(this);\n",
       "    this._init_canvas(this);\n",
       "    this._init_toolbar(this);\n",
       "\n",
       "    var fig = this;\n",
       "\n",
       "    this.waiting = false;\n",
       "\n",
       "    this.ws.onopen = function () {\n",
       "        fig.send_message('supports_binary', { value: fig.supports_binary });\n",
       "        fig.send_message('send_image_mode', {});\n",
       "        if (fig.ratio !== 1) {\n",
       "            fig.send_message('set_dpi_ratio', { dpi_ratio: fig.ratio });\n",
       "        }\n",
       "        fig.send_message('refresh', {});\n",
       "    };\n",
       "\n",
       "    this.imageObj.onload = function () {\n",
       "        if (fig.image_mode === 'full') {\n",
       "            // Full images could contain transparency (where diff images\n",
       "            // almost always do), so we need to clear the canvas so that\n",
       "            // there is no ghosting.\n",
       "            fig.context.clearRect(0, 0, fig.canvas.width, fig.canvas.height);\n",
       "        }\n",
       "        fig.context.drawImage(fig.imageObj, 0, 0);\n",
       "    };\n",
       "\n",
       "    this.imageObj.onunload = function () {\n",
       "        fig.ws.close();\n",
       "    };\n",
       "\n",
       "    this.ws.onmessage = this._make_on_message_function(this);\n",
       "\n",
       "    this.ondownload = ondownload;\n",
       "};\n",
       "\n",
       "mpl.figure.prototype._init_header = function () {\n",
       "    var titlebar = document.createElement('div');\n",
       "    titlebar.classList =\n",
       "        'ui-dialog-titlebar ui-widget-header ui-corner-all ui-helper-clearfix';\n",
       "    var titletext = document.createElement('div');\n",
       "    titletext.classList = 'ui-dialog-title';\n",
       "    titletext.setAttribute(\n",
       "        'style',\n",
       "        'width: 100%; text-align: center; padding: 3px;'\n",
       "    );\n",
       "    titlebar.appendChild(titletext);\n",
       "    this.root.appendChild(titlebar);\n",
       "    this.header = titletext;\n",
       "};\n",
       "\n",
       "mpl.figure.prototype._canvas_extra_style = function (_canvas_div) {};\n",
       "\n",
       "mpl.figure.prototype._root_extra_style = function (_canvas_div) {};\n",
       "\n",
       "mpl.figure.prototype._init_canvas = function () {\n",
       "    var fig = this;\n",
       "\n",
       "    var canvas_div = (this.canvas_div = document.createElement('div'));\n",
       "    canvas_div.setAttribute(\n",
       "        'style',\n",
       "        'border: 1px solid #ddd;' +\n",
       "            'box-sizing: content-box;' +\n",
       "            'clear: both;' +\n",
       "            'min-height: 1px;' +\n",
       "            'min-width: 1px;' +\n",
       "            'outline: 0;' +\n",
       "            'overflow: hidden;' +\n",
       "            'position: relative;' +\n",
       "            'resize: both;'\n",
       "    );\n",
       "\n",
       "    function on_keyboard_event_closure(name) {\n",
       "        return function (event) {\n",
       "            return fig.key_event(event, name);\n",
       "        };\n",
       "    }\n",
       "\n",
       "    canvas_div.addEventListener(\n",
       "        'keydown',\n",
       "        on_keyboard_event_closure('key_press')\n",
       "    );\n",
       "    canvas_div.addEventListener(\n",
       "        'keyup',\n",
       "        on_keyboard_event_closure('key_release')\n",
       "    );\n",
       "\n",
       "    this._canvas_extra_style(canvas_div);\n",
       "    this.root.appendChild(canvas_div);\n",
       "\n",
       "    var canvas = (this.canvas = document.createElement('canvas'));\n",
       "    canvas.classList.add('mpl-canvas');\n",
       "    canvas.setAttribute('style', 'box-sizing: content-box;');\n",
       "\n",
       "    this.context = canvas.getContext('2d');\n",
       "\n",
       "    var backingStore =\n",
       "        this.context.backingStorePixelRatio ||\n",
       "        this.context.webkitBackingStorePixelRatio ||\n",
       "        this.context.mozBackingStorePixelRatio ||\n",
       "        this.context.msBackingStorePixelRatio ||\n",
       "        this.context.oBackingStorePixelRatio ||\n",
       "        this.context.backingStorePixelRatio ||\n",
       "        1;\n",
       "\n",
       "    this.ratio = (window.devicePixelRatio || 1) / backingStore;\n",
       "\n",
       "    var rubberband_canvas = (this.rubberband_canvas = document.createElement(\n",
       "        'canvas'\n",
       "    ));\n",
       "    rubberband_canvas.setAttribute(\n",
       "        'style',\n",
       "        'box-sizing: content-box; position: absolute; left: 0; top: 0; z-index: 1;'\n",
       "    );\n",
       "\n",
       "    // Apply a ponyfill if ResizeObserver is not implemented by browser.\n",
       "    if (this.ResizeObserver === undefined) {\n",
       "        if (window.ResizeObserver !== undefined) {\n",
       "            this.ResizeObserver = window.ResizeObserver;\n",
       "        } else {\n",
       "            var obs = _JSXTOOLS_RESIZE_OBSERVER({});\n",
       "            this.ResizeObserver = obs.ResizeObserver;\n",
       "        }\n",
       "    }\n",
       "\n",
       "    this.resizeObserverInstance = new this.ResizeObserver(function (entries) {\n",
       "        var nentries = entries.length;\n",
       "        for (var i = 0; i < nentries; i++) {\n",
       "            var entry = entries[i];\n",
       "            var width, height;\n",
       "            if (entry.contentBoxSize) {\n",
       "                if (entry.contentBoxSize instanceof Array) {\n",
       "                    // Chrome 84 implements new version of spec.\n",
       "                    width = entry.contentBoxSize[0].inlineSize;\n",
       "                    height = entry.contentBoxSize[0].blockSize;\n",
       "                } else {\n",
       "                    // Firefox implements old version of spec.\n",
       "                    width = entry.contentBoxSize.inlineSize;\n",
       "                    height = entry.contentBoxSize.blockSize;\n",
       "                }\n",
       "            } else {\n",
       "                // Chrome <84 implements even older version of spec.\n",
       "                width = entry.contentRect.width;\n",
       "                height = entry.contentRect.height;\n",
       "            }\n",
       "\n",
       "            // Keep the size of the canvas and rubber band canvas in sync with\n",
       "            // the canvas container.\n",
       "            if (entry.devicePixelContentBoxSize) {\n",
       "                // Chrome 84 implements new version of spec.\n",
       "                canvas.setAttribute(\n",
       "                    'width',\n",
       "                    entry.devicePixelContentBoxSize[0].inlineSize\n",
       "                );\n",
       "                canvas.setAttribute(\n",
       "                    'height',\n",
       "                    entry.devicePixelContentBoxSize[0].blockSize\n",
       "                );\n",
       "            } else {\n",
       "                canvas.setAttribute('width', width * fig.ratio);\n",
       "                canvas.setAttribute('height', height * fig.ratio);\n",
       "            }\n",
       "            canvas.setAttribute(\n",
       "                'style',\n",
       "                'width: ' + width + 'px; height: ' + height + 'px;'\n",
       "            );\n",
       "\n",
       "            rubberband_canvas.setAttribute('width', width);\n",
       "            rubberband_canvas.setAttribute('height', height);\n",
       "\n",
       "            // And update the size in Python. We ignore the initial 0/0 size\n",
       "            // that occurs as the element is placed into the DOM, which should\n",
       "            // otherwise not happen due to the minimum size styling.\n",
       "            if (fig.ws.readyState == 1 && width != 0 && height != 0) {\n",
       "                fig.request_resize(width, height);\n",
       "            }\n",
       "        }\n",
       "    });\n",
       "    this.resizeObserverInstance.observe(canvas_div);\n",
       "\n",
       "    function on_mouse_event_closure(name) {\n",
       "        return function (event) {\n",
       "            return fig.mouse_event(event, name);\n",
       "        };\n",
       "    }\n",
       "\n",
       "    rubberband_canvas.addEventListener(\n",
       "        'mousedown',\n",
       "        on_mouse_event_closure('button_press')\n",
       "    );\n",
       "    rubberband_canvas.addEventListener(\n",
       "        'mouseup',\n",
       "        on_mouse_event_closure('button_release')\n",
       "    );\n",
       "    // Throttle sequential mouse events to 1 every 20ms.\n",
       "    rubberband_canvas.addEventListener(\n",
       "        'mousemove',\n",
       "        on_mouse_event_closure('motion_notify')\n",
       "    );\n",
       "\n",
       "    rubberband_canvas.addEventListener(\n",
       "        'mouseenter',\n",
       "        on_mouse_event_closure('figure_enter')\n",
       "    );\n",
       "    rubberband_canvas.addEventListener(\n",
       "        'mouseleave',\n",
       "        on_mouse_event_closure('figure_leave')\n",
       "    );\n",
       "\n",
       "    canvas_div.addEventListener('wheel', function (event) {\n",
       "        if (event.deltaY < 0) {\n",
       "            event.step = 1;\n",
       "        } else {\n",
       "            event.step = -1;\n",
       "        }\n",
       "        on_mouse_event_closure('scroll')(event);\n",
       "    });\n",
       "\n",
       "    canvas_div.appendChild(canvas);\n",
       "    canvas_div.appendChild(rubberband_canvas);\n",
       "\n",
       "    this.rubberband_context = rubberband_canvas.getContext('2d');\n",
       "    this.rubberband_context.strokeStyle = '#000000';\n",
       "\n",
       "    this._resize_canvas = function (width, height, forward) {\n",
       "        if (forward) {\n",
       "            canvas_div.style.width = width + 'px';\n",
       "            canvas_div.style.height = height + 'px';\n",
       "        }\n",
       "    };\n",
       "\n",
       "    // Disable right mouse context menu.\n",
       "    this.rubberband_canvas.addEventListener('contextmenu', function (_e) {\n",
       "        event.preventDefault();\n",
       "        return false;\n",
       "    });\n",
       "\n",
       "    function set_focus() {\n",
       "        canvas.focus();\n",
       "        canvas_div.focus();\n",
       "    }\n",
       "\n",
       "    window.setTimeout(set_focus, 100);\n",
       "};\n",
       "\n",
       "mpl.figure.prototype._init_toolbar = function () {\n",
       "    var fig = this;\n",
       "\n",
       "    var toolbar = document.createElement('div');\n",
       "    toolbar.classList = 'mpl-toolbar';\n",
       "    this.root.appendChild(toolbar);\n",
       "\n",
       "    function on_click_closure(name) {\n",
       "        return function (_event) {\n",
       "            return fig.toolbar_button_onclick(name);\n",
       "        };\n",
       "    }\n",
       "\n",
       "    function on_mouseover_closure(tooltip) {\n",
       "        return function (event) {\n",
       "            if (!event.currentTarget.disabled) {\n",
       "                return fig.toolbar_button_onmouseover(tooltip);\n",
       "            }\n",
       "        };\n",
       "    }\n",
       "\n",
       "    fig.buttons = {};\n",
       "    var buttonGroup = document.createElement('div');\n",
       "    buttonGroup.classList = 'mpl-button-group';\n",
       "    for (var toolbar_ind in mpl.toolbar_items) {\n",
       "        var name = mpl.toolbar_items[toolbar_ind][0];\n",
       "        var tooltip = mpl.toolbar_items[toolbar_ind][1];\n",
       "        var image = mpl.toolbar_items[toolbar_ind][2];\n",
       "        var method_name = mpl.toolbar_items[toolbar_ind][3];\n",
       "\n",
       "        if (!name) {\n",
       "            /* Instead of a spacer, we start a new button group. */\n",
       "            if (buttonGroup.hasChildNodes()) {\n",
       "                toolbar.appendChild(buttonGroup);\n",
       "            }\n",
       "            buttonGroup = document.createElement('div');\n",
       "            buttonGroup.classList = 'mpl-button-group';\n",
       "            continue;\n",
       "        }\n",
       "\n",
       "        var button = (fig.buttons[name] = document.createElement('button'));\n",
       "        button.classList = 'mpl-widget';\n",
       "        button.setAttribute('role', 'button');\n",
       "        button.setAttribute('aria-disabled', 'false');\n",
       "        button.addEventListener('click', on_click_closure(method_name));\n",
       "        button.addEventListener('mouseover', on_mouseover_closure(tooltip));\n",
       "\n",
       "        var icon_img = document.createElement('img');\n",
       "        icon_img.src = '_images/' + image + '.png';\n",
       "        icon_img.srcset = '_images/' + image + '_large.png 2x';\n",
       "        icon_img.alt = tooltip;\n",
       "        button.appendChild(icon_img);\n",
       "\n",
       "        buttonGroup.appendChild(button);\n",
       "    }\n",
       "\n",
       "    if (buttonGroup.hasChildNodes()) {\n",
       "        toolbar.appendChild(buttonGroup);\n",
       "    }\n",
       "\n",
       "    var fmt_picker = document.createElement('select');\n",
       "    fmt_picker.classList = 'mpl-widget';\n",
       "    toolbar.appendChild(fmt_picker);\n",
       "    this.format_dropdown = fmt_picker;\n",
       "\n",
       "    for (var ind in mpl.extensions) {\n",
       "        var fmt = mpl.extensions[ind];\n",
       "        var option = document.createElement('option');\n",
       "        option.selected = fmt === mpl.default_extension;\n",
       "        option.innerHTML = fmt;\n",
       "        fmt_picker.appendChild(option);\n",
       "    }\n",
       "\n",
       "    var status_bar = document.createElement('span');\n",
       "    status_bar.classList = 'mpl-message';\n",
       "    toolbar.appendChild(status_bar);\n",
       "    this.message = status_bar;\n",
       "};\n",
       "\n",
       "mpl.figure.prototype.request_resize = function (x_pixels, y_pixels) {\n",
       "    // Request matplotlib to resize the figure. Matplotlib will then trigger a resize in the client,\n",
       "    // which will in turn request a refresh of the image.\n",
       "    this.send_message('resize', { width: x_pixels, height: y_pixels });\n",
       "};\n",
       "\n",
       "mpl.figure.prototype.send_message = function (type, properties) {\n",
       "    properties['type'] = type;\n",
       "    properties['figure_id'] = this.id;\n",
       "    this.ws.send(JSON.stringify(properties));\n",
       "};\n",
       "\n",
       "mpl.figure.prototype.send_draw_message = function () {\n",
       "    if (!this.waiting) {\n",
       "        this.waiting = true;\n",
       "        this.ws.send(JSON.stringify({ type: 'draw', figure_id: this.id }));\n",
       "    }\n",
       "};\n",
       "\n",
       "mpl.figure.prototype.handle_save = function (fig, _msg) {\n",
       "    var format_dropdown = fig.format_dropdown;\n",
       "    var format = format_dropdown.options[format_dropdown.selectedIndex].value;\n",
       "    fig.ondownload(fig, format);\n",
       "};\n",
       "\n",
       "mpl.figure.prototype.handle_resize = function (fig, msg) {\n",
       "    var size = msg['size'];\n",
       "    if (size[0] !== fig.canvas.width || size[1] !== fig.canvas.height) {\n",
       "        fig._resize_canvas(size[0], size[1], msg['forward']);\n",
       "        fig.send_message('refresh', {});\n",
       "    }\n",
       "};\n",
       "\n",
       "mpl.figure.prototype.handle_rubberband = function (fig, msg) {\n",
       "    var x0 = msg['x0'] / fig.ratio;\n",
       "    var y0 = (fig.canvas.height - msg['y0']) / fig.ratio;\n",
       "    var x1 = msg['x1'] / fig.ratio;\n",
       "    var y1 = (fig.canvas.height - msg['y1']) / fig.ratio;\n",
       "    x0 = Math.floor(x0) + 0.5;\n",
       "    y0 = Math.floor(y0) + 0.5;\n",
       "    x1 = Math.floor(x1) + 0.5;\n",
       "    y1 = Math.floor(y1) + 0.5;\n",
       "    var min_x = Math.min(x0, x1);\n",
       "    var min_y = Math.min(y0, y1);\n",
       "    var width = Math.abs(x1 - x0);\n",
       "    var height = Math.abs(y1 - y0);\n",
       "\n",
       "    fig.rubberband_context.clearRect(\n",
       "        0,\n",
       "        0,\n",
       "        fig.canvas.width / fig.ratio,\n",
       "        fig.canvas.height / fig.ratio\n",
       "    );\n",
       "\n",
       "    fig.rubberband_context.strokeRect(min_x, min_y, width, height);\n",
       "};\n",
       "\n",
       "mpl.figure.prototype.handle_figure_label = function (fig, msg) {\n",
       "    // Updates the figure title.\n",
       "    fig.header.textContent = msg['label'];\n",
       "};\n",
       "\n",
       "mpl.figure.prototype.handle_cursor = function (fig, msg) {\n",
       "    var cursor = msg['cursor'];\n",
       "    switch (cursor) {\n",
       "        case 0:\n",
       "            cursor = 'pointer';\n",
       "            break;\n",
       "        case 1:\n",
       "            cursor = 'default';\n",
       "            break;\n",
       "        case 2:\n",
       "            cursor = 'crosshair';\n",
       "            break;\n",
       "        case 3:\n",
       "            cursor = 'move';\n",
       "            break;\n",
       "    }\n",
       "    fig.rubberband_canvas.style.cursor = cursor;\n",
       "};\n",
       "\n",
       "mpl.figure.prototype.handle_message = function (fig, msg) {\n",
       "    fig.message.textContent = msg['message'];\n",
       "};\n",
       "\n",
       "mpl.figure.prototype.handle_draw = function (fig, _msg) {\n",
       "    // Request the server to send over a new figure.\n",
       "    fig.send_draw_message();\n",
       "};\n",
       "\n",
       "mpl.figure.prototype.handle_image_mode = function (fig, msg) {\n",
       "    fig.image_mode = msg['mode'];\n",
       "};\n",
       "\n",
       "mpl.figure.prototype.handle_history_buttons = function (fig, msg) {\n",
       "    for (var key in msg) {\n",
       "        if (!(key in fig.buttons)) {\n",
       "            continue;\n",
       "        }\n",
       "        fig.buttons[key].disabled = !msg[key];\n",
       "        fig.buttons[key].setAttribute('aria-disabled', !msg[key]);\n",
       "    }\n",
       "};\n",
       "\n",
       "mpl.figure.prototype.handle_navigate_mode = function (fig, msg) {\n",
       "    if (msg['mode'] === 'PAN') {\n",
       "        fig.buttons['Pan'].classList.add('active');\n",
       "        fig.buttons['Zoom'].classList.remove('active');\n",
       "    } else if (msg['mode'] === 'ZOOM') {\n",
       "        fig.buttons['Pan'].classList.remove('active');\n",
       "        fig.buttons['Zoom'].classList.add('active');\n",
       "    } else {\n",
       "        fig.buttons['Pan'].classList.remove('active');\n",
       "        fig.buttons['Zoom'].classList.remove('active');\n",
       "    }\n",
       "};\n",
       "\n",
       "mpl.figure.prototype.updated_canvas_event = function () {\n",
       "    // Called whenever the canvas gets updated.\n",
       "    this.send_message('ack', {});\n",
       "};\n",
       "\n",
       "// A function to construct a web socket function for onmessage handling.\n",
       "// Called in the figure constructor.\n",
       "mpl.figure.prototype._make_on_message_function = function (fig) {\n",
       "    return function socket_on_message(evt) {\n",
       "        if (evt.data instanceof Blob) {\n",
       "            /* FIXME: We get \"Resource interpreted as Image but\n",
       "             * transferred with MIME type text/plain:\" errors on\n",
       "             * Chrome.  But how to set the MIME type?  It doesn't seem\n",
       "             * to be part of the websocket stream */\n",
       "            evt.data.type = 'image/png';\n",
       "\n",
       "            /* Free the memory for the previous frames */\n",
       "            if (fig.imageObj.src) {\n",
       "                (window.URL || window.webkitURL).revokeObjectURL(\n",
       "                    fig.imageObj.src\n",
       "                );\n",
       "            }\n",
       "\n",
       "            fig.imageObj.src = (window.URL || window.webkitURL).createObjectURL(\n",
       "                evt.data\n",
       "            );\n",
       "            fig.updated_canvas_event();\n",
       "            fig.waiting = false;\n",
       "            return;\n",
       "        } else if (\n",
       "            typeof evt.data === 'string' &&\n",
       "            evt.data.slice(0, 21) === 'data:image/png;base64'\n",
       "        ) {\n",
       "            fig.imageObj.src = evt.data;\n",
       "            fig.updated_canvas_event();\n",
       "            fig.waiting = false;\n",
       "            return;\n",
       "        }\n",
       "\n",
       "        var msg = JSON.parse(evt.data);\n",
       "        var msg_type = msg['type'];\n",
       "\n",
       "        // Call the  \"handle_{type}\" callback, which takes\n",
       "        // the figure and JSON message as its only arguments.\n",
       "        try {\n",
       "            var callback = fig['handle_' + msg_type];\n",
       "        } catch (e) {\n",
       "            console.log(\n",
       "                \"No handler for the '\" + msg_type + \"' message type: \",\n",
       "                msg\n",
       "            );\n",
       "            return;\n",
       "        }\n",
       "\n",
       "        if (callback) {\n",
       "            try {\n",
       "                // console.log(\"Handling '\" + msg_type + \"' message: \", msg);\n",
       "                callback(fig, msg);\n",
       "            } catch (e) {\n",
       "                console.log(\n",
       "                    \"Exception inside the 'handler_\" + msg_type + \"' callback:\",\n",
       "                    e,\n",
       "                    e.stack,\n",
       "                    msg\n",
       "                );\n",
       "            }\n",
       "        }\n",
       "    };\n",
       "};\n",
       "\n",
       "// from http://stackoverflow.com/questions/1114465/getting-mouse-location-in-canvas\n",
       "mpl.findpos = function (e) {\n",
       "    //this section is from http://www.quirksmode.org/js/events_properties.html\n",
       "    var targ;\n",
       "    if (!e) {\n",
       "        e = window.event;\n",
       "    }\n",
       "    if (e.target) {\n",
       "        targ = e.target;\n",
       "    } else if (e.srcElement) {\n",
       "        targ = e.srcElement;\n",
       "    }\n",
       "    if (targ.nodeType === 3) {\n",
       "        // defeat Safari bug\n",
       "        targ = targ.parentNode;\n",
       "    }\n",
       "\n",
       "    // pageX,Y are the mouse positions relative to the document\n",
       "    var boundingRect = targ.getBoundingClientRect();\n",
       "    var x = e.pageX - (boundingRect.left + document.body.scrollLeft);\n",
       "    var y = e.pageY - (boundingRect.top + document.body.scrollTop);\n",
       "\n",
       "    return { x: x, y: y };\n",
       "};\n",
       "\n",
       "/*\n",
       " * return a copy of an object with only non-object keys\n",
       " * we need this to avoid circular references\n",
       " * http://stackoverflow.com/a/24161582/3208463\n",
       " */\n",
       "function simpleKeys(original) {\n",
       "    return Object.keys(original).reduce(function (obj, key) {\n",
       "        if (typeof original[key] !== 'object') {\n",
       "            obj[key] = original[key];\n",
       "        }\n",
       "        return obj;\n",
       "    }, {});\n",
       "}\n",
       "\n",
       "mpl.figure.prototype.mouse_event = function (event, name) {\n",
       "    var canvas_pos = mpl.findpos(event);\n",
       "\n",
       "    if (name === 'button_press') {\n",
       "        this.canvas.focus();\n",
       "        this.canvas_div.focus();\n",
       "    }\n",
       "\n",
       "    var x = canvas_pos.x * this.ratio;\n",
       "    var y = canvas_pos.y * this.ratio;\n",
       "\n",
       "    this.send_message(name, {\n",
       "        x: x,\n",
       "        y: y,\n",
       "        button: event.button,\n",
       "        step: event.step,\n",
       "        guiEvent: simpleKeys(event),\n",
       "    });\n",
       "\n",
       "    /* This prevents the web browser from automatically changing to\n",
       "     * the text insertion cursor when the button is pressed.  We want\n",
       "     * to control all of the cursor setting manually through the\n",
       "     * 'cursor' event from matplotlib */\n",
       "    event.preventDefault();\n",
       "    return false;\n",
       "};\n",
       "\n",
       "mpl.figure.prototype._key_event_extra = function (_event, _name) {\n",
       "    // Handle any extra behaviour associated with a key event\n",
       "};\n",
       "\n",
       "mpl.figure.prototype.key_event = function (event, name) {\n",
       "    // Prevent repeat events\n",
       "    if (name === 'key_press') {\n",
       "        if (event.which === this._key) {\n",
       "            return;\n",
       "        } else {\n",
       "            this._key = event.which;\n",
       "        }\n",
       "    }\n",
       "    if (name === 'key_release') {\n",
       "        this._key = null;\n",
       "    }\n",
       "\n",
       "    var value = '';\n",
       "    if (event.ctrlKey && event.which !== 17) {\n",
       "        value += 'ctrl+';\n",
       "    }\n",
       "    if (event.altKey && event.which !== 18) {\n",
       "        value += 'alt+';\n",
       "    }\n",
       "    if (event.shiftKey && event.which !== 16) {\n",
       "        value += 'shift+';\n",
       "    }\n",
       "\n",
       "    value += 'k';\n",
       "    value += event.which.toString();\n",
       "\n",
       "    this._key_event_extra(event, name);\n",
       "\n",
       "    this.send_message(name, { key: value, guiEvent: simpleKeys(event) });\n",
       "    return false;\n",
       "};\n",
       "\n",
       "mpl.figure.prototype.toolbar_button_onclick = function (name) {\n",
       "    if (name === 'download') {\n",
       "        this.handle_save(this, null);\n",
       "    } else {\n",
       "        this.send_message('toolbar_button', { name: name });\n",
       "    }\n",
       "};\n",
       "\n",
       "mpl.figure.prototype.toolbar_button_onmouseover = function (tooltip) {\n",
       "    this.message.textContent = tooltip;\n",
       "};\n",
       "\n",
       "///////////////// REMAINING CONTENT GENERATED BY embed_js.py /////////////////\n",
       "// prettier-ignore\n",
       "var _JSXTOOLS_RESIZE_OBSERVER=function(A){var t,i=new WeakMap,n=new WeakMap,a=new WeakMap,r=new WeakMap,o=new Set;function s(e){if(!(this instanceof s))throw new TypeError(\"Constructor requires 'new' operator\");i.set(this,e)}function h(){throw new TypeError(\"Function is not a constructor\")}function c(e,t,i,n){e=0 in arguments?Number(arguments[0]):0,t=1 in arguments?Number(arguments[1]):0,i=2 in arguments?Number(arguments[2]):0,n=3 in arguments?Number(arguments[3]):0,this.right=(this.x=this.left=e)+(this.width=i),this.bottom=(this.y=this.top=t)+(this.height=n),Object.freeze(this)}function d(){t=requestAnimationFrame(d);var s=new WeakMap,p=new Set;o.forEach((function(t){r.get(t).forEach((function(i){var r=t instanceof window.SVGElement,o=a.get(t),d=r?0:parseFloat(o.paddingTop),f=r?0:parseFloat(o.paddingRight),l=r?0:parseFloat(o.paddingBottom),u=r?0:parseFloat(o.paddingLeft),g=r?0:parseFloat(o.borderTopWidth),m=r?0:parseFloat(o.borderRightWidth),w=r?0:parseFloat(o.borderBottomWidth),b=u+f,F=d+l,v=(r?0:parseFloat(o.borderLeftWidth))+m,W=g+w,y=r?0:t.offsetHeight-W-t.clientHeight,E=r?0:t.offsetWidth-v-t.clientWidth,R=b+v,z=F+W,M=r?t.width:parseFloat(o.width)-R-E,O=r?t.height:parseFloat(o.height)-z-y;if(n.has(t)){var k=n.get(t);if(k[0]===M&&k[1]===O)return}n.set(t,[M,O]);var S=Object.create(h.prototype);S.target=t,S.contentRect=new c(u,d,M,O),s.has(i)||(s.set(i,[]),p.add(i)),s.get(i).push(S)}))})),p.forEach((function(e){i.get(e).call(e,s.get(e),e)}))}return s.prototype.observe=function(i){if(i instanceof window.Element){r.has(i)||(r.set(i,new Set),o.add(i),a.set(i,window.getComputedStyle(i)));var n=r.get(i);n.has(this)||n.add(this),cancelAnimationFrame(t),t=requestAnimationFrame(d)}},s.prototype.unobserve=function(i){if(i instanceof window.Element&&r.has(i)){var n=r.get(i);n.has(this)&&(n.delete(this),n.size||(r.delete(i),o.delete(i))),n.size||r.delete(i),o.size||cancelAnimationFrame(t)}},A.DOMRectReadOnly=c,A.ResizeObserver=s,A.ResizeObserverEntry=h,A}; // eslint-disable-line\n",
       "mpl.toolbar_items = [[\"Home\", \"Reset original view\", \"fa fa-home icon-home\", \"home\"], [\"Back\", \"Back to previous view\", \"fa fa-arrow-left icon-arrow-left\", \"back\"], [\"Forward\", \"Forward to next view\", \"fa fa-arrow-right icon-arrow-right\", \"forward\"], [\"\", \"\", \"\", \"\"], [\"Pan\", \"Left button pans, Right button zooms\\nx/y fixes axis, CTRL fixes aspect\", \"fa fa-arrows icon-move\", \"pan\"], [\"Zoom\", \"Zoom to rectangle\\nx/y fixes axis, CTRL fixes aspect\", \"fa fa-square-o icon-check-empty\", \"zoom\"], [\"\", \"\", \"\", \"\"], [\"Download\", \"Download plot\", \"fa fa-floppy-o icon-save\", \"download\"]];\n",
       "\n",
       "mpl.extensions = [\"eps\", \"jpeg\", \"pdf\", \"png\", \"ps\", \"raw\", \"svg\", \"tif\"];\n",
       "\n",
       "mpl.default_extension = \"png\";/* global mpl */\n",
       "\n",
       "var comm_websocket_adapter = function (comm) {\n",
       "    // Create a \"websocket\"-like object which calls the given IPython comm\n",
       "    // object with the appropriate methods. Currently this is a non binary\n",
       "    // socket, so there is still some room for performance tuning.\n",
       "    var ws = {};\n",
       "\n",
       "    ws.close = function () {\n",
       "        comm.close();\n",
       "    };\n",
       "    ws.send = function (m) {\n",
       "        //console.log('sending', m);\n",
       "        comm.send(m);\n",
       "    };\n",
       "    // Register the callback with on_msg.\n",
       "    comm.on_msg(function (msg) {\n",
       "        //console.log('receiving', msg['content']['data'], msg);\n",
       "        // Pass the mpl event to the overridden (by mpl) onmessage function.\n",
       "        ws.onmessage(msg['content']['data']);\n",
       "    });\n",
       "    return ws;\n",
       "};\n",
       "\n",
       "mpl.mpl_figure_comm = function (comm, msg) {\n",
       "    // This is the function which gets called when the mpl process\n",
       "    // starts-up an IPython Comm through the \"matplotlib\" channel.\n",
       "\n",
       "    var id = msg.content.data.id;\n",
       "    // Get hold of the div created by the display call when the Comm\n",
       "    // socket was opened in Python.\n",
       "    var element = document.getElementById(id);\n",
       "    var ws_proxy = comm_websocket_adapter(comm);\n",
       "\n",
       "    function ondownload(figure, _format) {\n",
       "        window.open(figure.canvas.toDataURL());\n",
       "    }\n",
       "\n",
       "    var fig = new mpl.figure(id, ws_proxy, ondownload, element);\n",
       "\n",
       "    // Call onopen now - mpl needs it, as it is assuming we've passed it a real\n",
       "    // web socket which is closed, not our websocket->open comm proxy.\n",
       "    ws_proxy.onopen();\n",
       "\n",
       "    fig.parent_element = element;\n",
       "    fig.cell_info = mpl.find_output_cell(\"<div id='\" + id + \"'></div>\");\n",
       "    if (!fig.cell_info) {\n",
       "        console.error('Failed to find cell for figure', id, fig);\n",
       "        return;\n",
       "    }\n",
       "    fig.cell_info[0].output_area.element.on(\n",
       "        'cleared',\n",
       "        { fig: fig },\n",
       "        fig._remove_fig_handler\n",
       "    );\n",
       "};\n",
       "\n",
       "mpl.figure.prototype.handle_close = function (fig, msg) {\n",
       "    var width = fig.canvas.width / fig.ratio;\n",
       "    fig.cell_info[0].output_area.element.off(\n",
       "        'cleared',\n",
       "        fig._remove_fig_handler\n",
       "    );\n",
       "    fig.resizeObserverInstance.unobserve(fig.canvas_div);\n",
       "\n",
       "    // Update the output cell to use the data from the current canvas.\n",
       "    fig.push_to_output();\n",
       "    var dataURL = fig.canvas.toDataURL();\n",
       "    // Re-enable the keyboard manager in IPython - without this line, in FF,\n",
       "    // the notebook keyboard shortcuts fail.\n",
       "    IPython.keyboard_manager.enable();\n",
       "    fig.parent_element.innerHTML =\n",
       "        '<img src=\"' + dataURL + '\" width=\"' + width + '\">';\n",
       "    fig.close_ws(fig, msg);\n",
       "};\n",
       "\n",
       "mpl.figure.prototype.close_ws = function (fig, msg) {\n",
       "    fig.send_message('closing', msg);\n",
       "    // fig.ws.close()\n",
       "};\n",
       "\n",
       "mpl.figure.prototype.push_to_output = function (_remove_interactive) {\n",
       "    // Turn the data on the canvas into data in the output cell.\n",
       "    var width = this.canvas.width / this.ratio;\n",
       "    var dataURL = this.canvas.toDataURL();\n",
       "    this.cell_info[1]['text/html'] =\n",
       "        '<img src=\"' + dataURL + '\" width=\"' + width + '\">';\n",
       "};\n",
       "\n",
       "mpl.figure.prototype.updated_canvas_event = function () {\n",
       "    // Tell IPython that the notebook contents must change.\n",
       "    IPython.notebook.set_dirty(true);\n",
       "    this.send_message('ack', {});\n",
       "    var fig = this;\n",
       "    // Wait a second, then push the new image to the DOM so\n",
       "    // that it is saved nicely (might be nice to debounce this).\n",
       "    setTimeout(function () {\n",
       "        fig.push_to_output();\n",
       "    }, 1000);\n",
       "};\n",
       "\n",
       "mpl.figure.prototype._init_toolbar = function () {\n",
       "    var fig = this;\n",
       "\n",
       "    var toolbar = document.createElement('div');\n",
       "    toolbar.classList = 'btn-toolbar';\n",
       "    this.root.appendChild(toolbar);\n",
       "\n",
       "    function on_click_closure(name) {\n",
       "        return function (_event) {\n",
       "            return fig.toolbar_button_onclick(name);\n",
       "        };\n",
       "    }\n",
       "\n",
       "    function on_mouseover_closure(tooltip) {\n",
       "        return function (event) {\n",
       "            if (!event.currentTarget.disabled) {\n",
       "                return fig.toolbar_button_onmouseover(tooltip);\n",
       "            }\n",
       "        };\n",
       "    }\n",
       "\n",
       "    fig.buttons = {};\n",
       "    var buttonGroup = document.createElement('div');\n",
       "    buttonGroup.classList = 'btn-group';\n",
       "    var button;\n",
       "    for (var toolbar_ind in mpl.toolbar_items) {\n",
       "        var name = mpl.toolbar_items[toolbar_ind][0];\n",
       "        var tooltip = mpl.toolbar_items[toolbar_ind][1];\n",
       "        var image = mpl.toolbar_items[toolbar_ind][2];\n",
       "        var method_name = mpl.toolbar_items[toolbar_ind][3];\n",
       "\n",
       "        if (!name) {\n",
       "            /* Instead of a spacer, we start a new button group. */\n",
       "            if (buttonGroup.hasChildNodes()) {\n",
       "                toolbar.appendChild(buttonGroup);\n",
       "            }\n",
       "            buttonGroup = document.createElement('div');\n",
       "            buttonGroup.classList = 'btn-group';\n",
       "            continue;\n",
       "        }\n",
       "\n",
       "        button = fig.buttons[name] = document.createElement('button');\n",
       "        button.classList = 'btn btn-default';\n",
       "        button.href = '#';\n",
       "        button.title = name;\n",
       "        button.innerHTML = '<i class=\"fa ' + image + ' fa-lg\"></i>';\n",
       "        button.addEventListener('click', on_click_closure(method_name));\n",
       "        button.addEventListener('mouseover', on_mouseover_closure(tooltip));\n",
       "        buttonGroup.appendChild(button);\n",
       "    }\n",
       "\n",
       "    if (buttonGroup.hasChildNodes()) {\n",
       "        toolbar.appendChild(buttonGroup);\n",
       "    }\n",
       "\n",
       "    // Add the status bar.\n",
       "    var status_bar = document.createElement('span');\n",
       "    status_bar.classList = 'mpl-message pull-right';\n",
       "    toolbar.appendChild(status_bar);\n",
       "    this.message = status_bar;\n",
       "\n",
       "    // Add the close button to the window.\n",
       "    var buttongrp = document.createElement('div');\n",
       "    buttongrp.classList = 'btn-group inline pull-right';\n",
       "    button = document.createElement('button');\n",
       "    button.classList = 'btn btn-mini btn-primary';\n",
       "    button.href = '#';\n",
       "    button.title = 'Stop Interaction';\n",
       "    button.innerHTML = '<i class=\"fa fa-power-off icon-remove icon-large\"></i>';\n",
       "    button.addEventListener('click', function (_evt) {\n",
       "        fig.handle_close(fig, {});\n",
       "    });\n",
       "    button.addEventListener(\n",
       "        'mouseover',\n",
       "        on_mouseover_closure('Stop Interaction')\n",
       "    );\n",
       "    buttongrp.appendChild(button);\n",
       "    var titlebar = this.root.querySelector('.ui-dialog-titlebar');\n",
       "    titlebar.insertBefore(buttongrp, titlebar.firstChild);\n",
       "};\n",
       "\n",
       "mpl.figure.prototype._remove_fig_handler = function (event) {\n",
       "    var fig = event.data.fig;\n",
       "    if (event.target !== this) {\n",
       "        // Ignore bubbled events from children.\n",
       "        return;\n",
       "    }\n",
       "    fig.close_ws(fig, {});\n",
       "};\n",
       "\n",
       "mpl.figure.prototype._root_extra_style = function (el) {\n",
       "    el.style.boxSizing = 'content-box'; // override notebook setting of border-box.\n",
       "};\n",
       "\n",
       "mpl.figure.prototype._canvas_extra_style = function (el) {\n",
       "    // this is important to make the div 'focusable\n",
       "    el.setAttribute('tabindex', 0);\n",
       "    // reach out to IPython and tell the keyboard manager to turn it's self\n",
       "    // off when our div gets focus\n",
       "\n",
       "    // location in version 3\n",
       "    if (IPython.notebook.keyboard_manager) {\n",
       "        IPython.notebook.keyboard_manager.register_events(el);\n",
       "    } else {\n",
       "        // location in version 2\n",
       "        IPython.keyboard_manager.register_events(el);\n",
       "    }\n",
       "};\n",
       "\n",
       "mpl.figure.prototype._key_event_extra = function (event, _name) {\n",
       "    var manager = IPython.notebook.keyboard_manager;\n",
       "    if (!manager) {\n",
       "        manager = IPython.keyboard_manager;\n",
       "    }\n",
       "\n",
       "    // Check for shift+enter\n",
       "    if (event.shiftKey && event.which === 13) {\n",
       "        this.canvas_div.blur();\n",
       "        // select the cell after this one\n",
       "        var index = IPython.notebook.find_cell_index(this.cell_info[0]);\n",
       "        IPython.notebook.select(index + 1);\n",
       "    }\n",
       "};\n",
       "\n",
       "mpl.figure.prototype.handle_save = function (fig, _msg) {\n",
       "    fig.ondownload(fig, null);\n",
       "};\n",
       "\n",
       "mpl.find_output_cell = function (html_output) {\n",
       "    // Return the cell and output element which can be found *uniquely* in the notebook.\n",
       "    // Note - this is a bit hacky, but it is done because the \"notebook_saving.Notebook\"\n",
       "    // IPython event is triggered only after the cells have been serialised, which for\n",
       "    // our purposes (turning an active figure into a static one), is too late.\n",
       "    var cells = IPython.notebook.get_cells();\n",
       "    var ncells = cells.length;\n",
       "    for (var i = 0; i < ncells; i++) {\n",
       "        var cell = cells[i];\n",
       "        if (cell.cell_type === 'code') {\n",
       "            for (var j = 0; j < cell.output_area.outputs.length; j++) {\n",
       "                var data = cell.output_area.outputs[j];\n",
       "                if (data.data) {\n",
       "                    // IPython >= 3 moved mimebundle to data attribute of output\n",
       "                    data = data.data;\n",
       "                }\n",
       "                if (data['text/html'] === html_output) {\n",
       "                    return [cell, data, j];\n",
       "                }\n",
       "            }\n",
       "        }\n",
       "    }\n",
       "};\n",
       "\n",
       "// Register the function which deals with the matplotlib target/channel.\n",
       "// The kernel may be null if the page has been refreshed.\n",
       "if (IPython.notebook.kernel !== null) {\n",
       "    IPython.notebook.kernel.comm_manager.register_target(\n",
       "        'matplotlib',\n",
       "        mpl.mpl_figure_comm\n",
       "    );\n",
       "}\n"
      ],
      "text/plain": [
       "<IPython.core.display.Javascript object>"
      ]
     },
     "metadata": {},
     "output_type": "display_data"
    },
    {
     "data": {
      "text/html": [
       "<img src=\"data:image/png;base64,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\" width=\"432\">"
      ],
      "text/plain": [
       "<IPython.core.display.HTML object>"
      ]
     },
     "metadata": {},
     "output_type": "display_data"
    },
    {
     "name": "stderr",
     "output_type": "stream",
     "text": [
      "C:\\Users\\DELL\\anaconda3\\lib\\site-packages\\seaborn\\distributions.py:2557: FutureWarning: `distplot` is a deprecated function and will be removed in a future version. Please adapt your code to use either `displot` (a figure-level function with similar flexibility) or `histplot` (an axes-level function for histograms).\n",
      "  warnings.warn(msg, FutureWarning)\n"
     ]
    }
   ],
   "source": [
    "%matplotlib notebook\n",
    "sns.distplot( hr_train_pred.loc[ hr_train_pred.left == 1 ,  'predict_proba'], color = 'b' )\n",
    "sns.distplot( hr_train_pred.loc[ hr_train_pred.left == 0 ,  'predict_proba'], color = 'g' )\n",
    "plt.show()"
   ]
  },
  {
   "cell_type": "markdown",
   "metadata": {},
   "source": [
    "#### ROC curve - Method 3"
   ]
  },
  {
   "cell_type": "code",
   "execution_count": 94,
   "metadata": {},
   "outputs": [],
   "source": [
    "roc_curve?"
   ]
  },
  {
   "cell_type": "code",
   "execution_count": 95,
   "metadata": {
    "scrolled": true
   },
   "outputs": [
    {
     "data": {
      "image/png": "[encoded data removed]",
      "text/plain": [
       "<Figure size 432x288 with 1 Axes>"
      ]
     },
     "metadata": {
      "needs_background": "light"
     },
     "output_type": "display_data"
    }
   ],
   "source": [
    "# Finding the optimal cutoff probability\n",
    "fpr, tpr, thresholds = roc_curve( hr_train_pred.left, \n",
    "                                             hr_train_pred.predict_proba,\n",
    "                                                 drop_intermediate = False )\n",
    "\n",
    "%matplotlib inline\n",
    "plt.figure(figsize = (6, 4))\n",
    "plt.plot( fpr, tpr, label = 'ROC curve (area = %0.2f)')\n",
    "plt.plot([0, 1], [0, 1], 'k--')\n",
    "plt.xlim([0.0, 1.0])\n",
    "plt.ylim([0.0, 1.05])\n",
    "plt.xlabel('False Positive Rate or [1 - True Negative Rate]')\n",
    "plt.ylabel('True Positive Rate')\n",
    "plt.title('Receiver operating characteristic example')\n",
    "plt.legend(loc = 'lower right')\n",
    "plt.show()"
   ]
  },
  {
   "cell_type": "code",
   "execution_count": 107,
   "metadata": {},
   "outputs": [
    {
     "data": {
      "text/html": [
       "<div>\n",
       "<style scoped>\n",
       "    .dataframe tbody tr th:only-of-type {\n",
       "        vertical-align: middle;\n",
       "    }\n",
       "\n",
       "    .dataframe tbody tr th {\n",
       "        vertical-align: top;\n",
       "    }\n",
       "\n",
       "    .dataframe thead th {\n",
       "        text-align: right;\n",
       "    }\n",
       "</style>\n",
       "<table border=\"1\" class=\"dataframe\">\n",
       "  <thead>\n",
       "    <tr style=\"text-align: right;\">\n",
       "      <th></th>\n",
       "      <th>fpr</th>\n",
       "      <th>tpr</th>\n",
       "      <th>thresholds</th>\n",
       "    </tr>\n",
       "  </thead>\n",
       "  <tbody>\n",
       "    <tr>\n",
       "      <th>0</th>\n",
       "      <td>0.000000</td>\n",
       "      <td>0.0</td>\n",
       "      <td>1.910601</td>\n",
       "    </tr>\n",
       "    <tr>\n",
       "      <th>1</th>\n",
       "      <td>0.000125</td>\n",
       "      <td>0.0</td>\n",
       "      <td>0.910601</td>\n",
       "    </tr>\n",
       "  </tbody>\n",
       "</table>\n",
       "</div>"
      ],
      "text/plain": [
       "        fpr  tpr  thresholds\n",
       "0  0.000000  0.0    1.910601\n",
       "1  0.000125  0.0    0.910601"
      ]
     },
     "execution_count": 107,
     "metadata": {},
     "output_type": "execute_result"
    }
   ],
   "source": [
    "roc_auc_data = pd.DataFrame( [fpr, tpr, thresholds] ).T\n",
    "roc_auc_data.columns = ['fpr', 'tpr', 'thresholds']\n",
    "roc_auc_data.head(2)"
   ]
  },
  {
   "cell_type": "code",
   "execution_count": null,
   "metadata": {},
   "outputs": [],
   "source": [
    "# get the threshold value for min of the calculation in next cell\n",
    "??"
   ]
  },
  {
   "cell_type": "code",
   "execution_count": 112,
   "metadata": {},
   "outputs": [
    {
     "data": {
      "text/plain": [
       "2.5003125390665737e-05"
      ]
     },
     "execution_count": 112,
     "metadata": {},
     "output_type": "execute_result"
    }
   ],
   "source": [
    "min(abs(roc_auc_data.fpr - 0.2))"
   ]
  },
  {
   "cell_type": "code",
   "execution_count": null,
   "metadata": {},
   "outputs": [],
   "source": []
  },
  {
   "cell_type": "code",
   "execution_count": null,
   "metadata": {},
   "outputs": [],
   "source": []
  },
  {
   "cell_type": "code",
   "execution_count": null,
   "metadata": {},
   "outputs": [],
   "source": []
  },
  {
   "cell_type": "code",
   "execution_count": null,
   "metadata": {},
   "outputs": [],
   "source": []
  },
  {
   "cell_type": "code",
   "execution_count": null,
   "metadata": {},
   "outputs": [],
   "source": []
  },
  {
   "cell_type": "code",
   "execution_count": null,
   "metadata": {},
   "outputs": [],
   "source": []
  },
  {
   "cell_type": "code",
   "execution_count": null,
   "metadata": {},
   "outputs": [],
   "source": []
  },
  {
   "cell_type": "code",
   "execution_count": null,
   "metadata": {},
   "outputs": [],
   "source": []
  },
  {
   "cell_type": "code",
   "execution_count": 44,
   "metadata": {},
   "outputs": [
    {
     "data": {
      "text/plain": [
       "array([0, 0, 1, ..., 0, 0, 0], dtype=int64)"
      ]
     },
     "execution_count": 44,
     "metadata": {},
     "output_type": "execute_result"
    }
   ],
   "source": [
    "# predict the values for training\n",
    "logreg.predict(train_X) # by default, it use cut-off as 0.5"
   ]
  },
  {
   "cell_type": "code",
   "execution_count": 45,
   "metadata": {},
   "outputs": [],
   "source": [
    "# Predicting on the training data\n",
    "hr_train_pred = pd.DataFrame(train_y)\n",
    "hr_train_pred['predicted'] = logreg.predict(train_X) # based of cut off of 0.5"
   ]
  },
  {
   "cell_type": "code",
   "execution_count": 46,
   "metadata": {},
   "outputs": [
    {
     "data": {
      "text/html": [
       "<div>\n",
       "<style scoped>\n",
       "    .dataframe tbody tr th:only-of-type {\n",
       "        vertical-align: middle;\n",
       "    }\n",
       "\n",
       "    .dataframe tbody tr th {\n",
       "        vertical-align: top;\n",
       "    }\n",
       "\n",
       "    .dataframe thead th {\n",
       "        text-align: right;\n",
       "    }\n",
       "</style>\n",
       "<table border=\"1\" class=\"dataframe\">\n",
       "  <thead>\n",
       "    <tr style=\"text-align: right;\">\n",
       "      <th></th>\n",
       "      <th>left</th>\n",
       "      <th>predicted</th>\n",
       "    </tr>\n",
       "  </thead>\n",
       "  <tbody>\n",
       "    <tr>\n",
       "      <th>5242</th>\n",
       "      <td>0</td>\n",
       "      <td>0</td>\n",
       "    </tr>\n",
       "    <tr>\n",
       "      <th>12674</th>\n",
       "      <td>1</td>\n",
       "      <td>0</td>\n",
       "    </tr>\n",
       "    <tr>\n",
       "      <th>6924</th>\n",
       "      <td>0</td>\n",
       "      <td>1</td>\n",
       "    </tr>\n",
       "    <tr>\n",
       "      <th>12595</th>\n",
       "      <td>1</td>\n",
       "      <td>1</td>\n",
       "    </tr>\n",
       "    <tr>\n",
       "      <th>13482</th>\n",
       "      <td>0</td>\n",
       "      <td>0</td>\n",
       "    </tr>\n",
       "  </tbody>\n",
       "</table>\n",
       "</div>"
      ],
      "text/plain": [
       "       left  predicted\n",
       "5242      0          0\n",
       "12674     1          0\n",
       "6924      0          1\n",
       "12595     1          1\n",
       "13482     0          0"
      ]
     },
     "execution_count": 46,
     "metadata": {},
     "output_type": "execute_result"
    }
   ],
   "source": [
    "# Comparing the predictions with actual train data\n",
    "hr_train_pred.head()"
   ]
  },
  {
   "cell_type": "code",
   "execution_count": 47,
   "metadata": {},
   "outputs": [],
   "source": [
    "# Predicting on the test data\n",
    "hr_test_pred = pd.DataFrame(test_y)\n",
    "hr_test_pred['predicted'] = logreg.predict(test_X)"
   ]
  },
  {
   "cell_type": "code",
   "execution_count": 48,
   "metadata": {},
   "outputs": [
    {
     "data": {
      "text/html": [
       "<div>\n",
       "<style scoped>\n",
       "    .dataframe tbody tr th:only-of-type {\n",
       "        vertical-align: middle;\n",
       "    }\n",
       "\n",
       "    .dataframe tbody tr th {\n",
       "        vertical-align: top;\n",
       "    }\n",
       "\n",
       "    .dataframe thead th {\n",
       "        text-align: right;\n",
       "    }\n",
       "</style>\n",
       "<table border=\"1\" class=\"dataframe\">\n",
       "  <thead>\n",
       "    <tr style=\"text-align: right;\">\n",
       "      <th></th>\n",
       "      <th>left</th>\n",
       "      <th>predicted</th>\n",
       "    </tr>\n",
       "  </thead>\n",
       "  <tbody>\n",
       "    <tr>\n",
       "      <th>6958</th>\n",
       "      <td>0</td>\n",
       "      <td>0</td>\n",
       "    </tr>\n",
       "    <tr>\n",
       "      <th>7534</th>\n",
       "      <td>0</td>\n",
       "      <td>0</td>\n",
       "    </tr>\n",
       "    <tr>\n",
       "      <th>2975</th>\n",
       "      <td>0</td>\n",
       "      <td>0</td>\n",
       "    </tr>\n",
       "    <tr>\n",
       "      <th>3903</th>\n",
       "      <td>0</td>\n",
       "      <td>0</td>\n",
       "    </tr>\n",
       "    <tr>\n",
       "      <th>8437</th>\n",
       "      <td>0</td>\n",
       "      <td>0</td>\n",
       "    </tr>\n",
       "  </tbody>\n",
       "</table>\n",
       "</div>"
      ],
      "text/plain": [
       "      left  predicted\n",
       "6958     0          0\n",
       "7534     0          0\n",
       "2975     0          0\n",
       "3903     0          0\n",
       "8437     0          0"
      ]
     },
     "execution_count": 48,
     "metadata": {},
     "output_type": "execute_result"
    }
   ],
   "source": [
    "# Comparing the predictions with actual test data\n",
    "hr_test_pred.head()"
   ]
  },
  {
   "cell_type": "code",
   "execution_count": 49,
   "metadata": {},
   "outputs": [],
   "source": [
    "# Creating a confusion matrix\n",
    "cm_lr = metrics.confusion_matrix( hr_test_pred.left, hr_test_pred.predicted )[::-1, ::-1]"
   ]
  },
  {
   "cell_type": "code",
   "execution_count": 50,
   "metadata": {
    "scrolled": true
   },
   "outputs": [
    {
     "data": {
      "image/png": "[encoded data removed]",
      "text/plain": [
       "<Figure size 432x288 with 2 Axes>"
      ]
     },
     "metadata": {
      "needs_background": "light"
     },
     "output_type": "display_data"
    }
   ],
   "source": [
    "sns.heatmap(cm_lr, annot = True,  fmt = '.2f', \n",
    "                xticklabels = [\"Left\", \"No Left\"], \n",
    "                    yticklabels = [\"Left\", \"No Left\"] )\n",
    "\n",
    "plt.ylabel('True label')\n",
    "plt.xlabel('Predicted label')\n",
    "plt.show()"
   ]
  },
  {
   "cell_type": "code",
   "execution_count": 51,
   "metadata": {},
   "outputs": [
    {
     "name": "stdout",
     "output_type": "stream",
     "text": [
      "              precision    recall  f1-score   support\n",
      "\n",
      "           0       0.82      0.93      0.87      3429\n",
      "           1       0.61      0.33      0.42      1071\n",
      "\n",
      "    accuracy                           0.79      4500\n",
      "   macro avg       0.71      0.63      0.65      4500\n",
      "weighted avg       0.77      0.79      0.77      4500\n",
      "\n"
     ]
    }
   ],
   "source": [
    "# classification report\n",
    "print(metrics.classification_report(hr_test_pred.left, hr_test_pred.predicted))"
   ]
  },
  {
   "cell_type": "code",
   "execution_count": null,
   "metadata": {},
   "outputs": [],
   "source": [
    "# get train and test accuracy score\n",
    "print('Train Accuracy: ', metrics.accuracy_score(hr_train_pred.left, hr_train_pred.predicted).round(4))\n",
    "print('Test Accuracy: ', metrics.accuracy_score(hr_test_pred.left, hr_test_pred.predicted).round(4))"
   ]
  },
  {
   "cell_type": "markdown",
   "metadata": {},
   "source": [
    "Overall test accuracy is 79%. But it is not a good measure. The result is very high as there are lots of cases which are no left and the model has predicted most of them as no left. <br>\n",
    "The objective of the model is to indentify the people who will leave, so that the company can intervene and act.<br>\n",
    "This might be the case as the default model assumes people with more than 0.5 probability will not leave the company"
   ]
  },
  {
   "cell_type": "code",
   "execution_count": null,
   "metadata": {},
   "outputs": [],
   "source": [
    "hr_train_pred = hr_train_pred.reset_index( drop = True )\n",
    "hr_test_pred = hr_test_pred.reset_index( drop = True )"
   ]
  },
  {
   "cell_type": "code",
   "execution_count": null,
   "metadata": {},
   "outputs": [],
   "source": [
    "# How good the model is?\n",
    "hr_train_pred['predict_proba'] = pd.Series(logreg.predict_proba(train_X)[:, 1])\n",
    "hr_test_pred['predict_proba'] = pd.Series(logreg.predict_proba(test_X)[:, 1])"
   ]
  },
  {
   "cell_type": "code",
   "execution_count": null,
   "metadata": {},
   "outputs": [],
   "source": [
    "# get train and test auc score\n",
    "print('Train AUC: ', metrics.roc_auc_score(hr_train_pred.left, hr_train_pred.predict_proba).round(4))\n",
    "print('Test AUC: ', metrics.roc_auc_score(hr_test_pred.left, hr_test_pred.predict_proba).round(4))"
   ]
  },
  {
   "cell_type": "code",
   "execution_count": null,
   "metadata": {},
   "outputs": [],
   "source": [
    " metrics.confusion_matrix( hr_train_pred.left, logreg.predict( train_X ) )[::-1, ::-1]"
   ]
  },
  {
   "cell_type": "code",
   "execution_count": null,
   "metadata": {},
   "outputs": [],
   "source": [
    "# get the exact cutoff value\n",
    "roc_auc_table = pd.concat([pd.Series(fpr), pd.Series(tpr), pd.Series(thresholds)], axis = 1)\n",
    "roc_auc_table.columns = ['fpr', 'tpr', 'threshold']\n",
    "roc_auc_table['total'] = roc_auc_table.tpr + 1 - roc_auc_table.fpr\n",
    "\n",
    "roc_auc_table[roc_auc_table.total == roc_auc_table.total.max()]"
   ]
  },
  {
   "cell_type": "code",
   "execution_count": null,
   "metadata": {},
   "outputs": [],
   "source": [
    "roc_auc_table.to_csv('ROC.csv')"
   ]
  },
  {
   "cell_type": "code",
   "execution_count": null,
   "metadata": {},
   "outputs": [],
   "source": [
    "# Predicting with new cut-off probability\n",
    "hr_train_pred['new_predicted'] = hr_train_pred.predict_proba.map( lambda x: 1 if x >= 0.25 else 0 )"
   ]
  },
  {
   "cell_type": "code",
   "execution_count": null,
   "metadata": {},
   "outputs": [],
   "source": [
    "# Predicting with new cut-off probability\n",
    "hr_test_pred['new_predicted'] = hr_test_pred.predict_proba.map( lambda x: 1 if x >= 0.25 else 0 )"
   ]
  },
  {
   "cell_type": "code",
   "execution_count": null,
   "metadata": {},
   "outputs": [],
   "source": [
    "cm_lr_1 = metrics.confusion_matrix(hr_test_pred.left, hr_test_pred.new_predicted)[::-1, ::-1]\n",
    "cm_lr_1"
   ]
  },
  {
   "cell_type": "code",
   "execution_count": null,
   "metadata": {},
   "outputs": [],
   "source": [
    "%matplotlib inline\n",
    "sns.heatmap(cm_lr_1, annot = True,  fmt = '.2f', \n",
    "                xticklabels = [\"Left\", \"No Left\"], \n",
    "                    yticklabels = [\"Left\", \"No Left\"] )\n",
    "\n",
    "plt.ylabel('True label')\n",
    "plt.xlabel('Predicted label')\n",
    "plt.show()"
   ]
  },
  {
   "cell_type": "code",
   "execution_count": null,
   "metadata": {},
   "outputs": [],
   "source": [
    "# get train and test accuracy score\n",
    "print('Train Accuracy: ', metrics.accuracy_score(hr_train_pred.left, hr_train_pred.new_predicted).round(4))\n",
    "print('Test Accuracy: ', metrics.accuracy_score(hr_test_pred.left, hr_test_pred.new_predicted).round(4))"
   ]
  },
  {
   "cell_type": "code",
   "execution_count": null,
   "metadata": {},
   "outputs": [],
   "source": [
    "# classification report\n",
    "print(metrics.classification_report(hr_test_pred.left, hr_test_pred.new_predicted))"
   ]
  },
  {
   "cell_type": "markdown",
   "metadata": {
    "collapsed": true
   },
   "source": [
    "### Building Decision Tree Model"
   ]
  },
  {
   "cell_type": "code",
   "execution_count": null,
   "metadata": {},
   "outputs": [],
   "source": [
    "from sklearn.tree import DecisionTreeClassifier\n",
    "from sklearn.model_selection import GridSearchCV\n",
    "from sklearn import metrics"
   ]
  },
  {
   "cell_type": "markdown",
   "metadata": {},
   "source": [
    "#### Fine Tuning the parameters"
   ]
  },
  {
   "cell_type": "code",
   "execution_count": null,
   "metadata": {},
   "outputs": [],
   "source": [
    "param_grid = { 'max_depth': range(7, 13),\n",
    "                 'min_samples_leaf': range(1, 10)}"
   ]
  },
  {
   "cell_type": "code",
   "execution_count": null,
   "metadata": {},
   "outputs": [],
   "source": [
    "tree = GridSearchCV( DecisionTreeClassifier( random_state = 1 ), \n",
    "                        param_grid, \n",
    "                        cv = 10, \n",
    "                        scoring = 'roc_auc', \n",
    "                        verbose = True, \n",
    "                        n_jobs = -1 ).fit( train_X, train_y )"
   ]
  },
  {
   "cell_type": "code",
   "execution_count": null,
   "metadata": {},
   "outputs": [],
   "source": [
    "# get the best score and parameters\n",
    "print('Best score: ', tree.best_score_)\n",
    "print('Best parameters: ', tree.best_params_)"
   ]
  },
  {
   "cell_type": "code",
   "execution_count": null,
   "metadata": {
    "scrolled": true
   },
   "outputs": [],
   "source": [
    "# build the decision tree model with the best parameter combinations\n",
    "clf_tree = DecisionTreeClassifier( max_depth = 9, min_samples_leaf = 7 ).fit( train_X, train_y )"
   ]
  },
  {
   "cell_type": "code",
   "execution_count": null,
   "metadata": {},
   "outputs": [],
   "source": [
    "# get the best estimator\n",
    "tree.best_estimator_"
   ]
  },
  {
   "cell_type": "code",
   "execution_count": null,
   "metadata": {},
   "outputs": [],
   "source": [
    "# get the probability score on training and testing\n",
    "train_predict_prob = pd.DataFrame(clf_tree.predict_proba(train_X))[1]\n",
    "test_predict_prob = pd.DataFrame(clf_tree.predict_proba(test_X))[1]"
   ]
  },
  {
   "cell_type": "code",
   "execution_count": null,
   "metadata": {},
   "outputs": [],
   "source": [
    "# get the model auc after parameter tuning\n",
    "print(metrics.roc_auc_score(train_y, train_predict_prob))\n",
    "print(metrics.roc_auc_score(test_y, test_predict_prob))"
   ]
  },
  {
   "cell_type": "code",
   "execution_count": null,
   "metadata": {},
   "outputs": [],
   "source": [
    "# get the model accuracy\n",
    "print(metrics.accuracy_score(train_y, clf_tree.predict(train_X)))\n",
    "print(metrics.accuracy_score(test_y, clf_tree.predict(test_X)))"
   ]
  },
  {
   "cell_type": "code",
   "execution_count": null,
   "metadata": {
    "scrolled": true
   },
   "outputs": [],
   "source": [
    "# confusion metrix for test data\n",
    "tree_cm_tree = metrics.confusion_matrix(test_y, clf_tree.predict(test_X))[::-1, ::-1]\n",
    "sns.heatmap(tree_cm_tree, annot = True, fmt = '.2f',\n",
    "                xticklabels = [\"Left\", \"No Left\"] , \n",
    "                    yticklabels = [\"Left\", \"No Left\"])\n",
    "\n",
    "plt.ylabel('True label')\n",
    "plt.xlabel('Predicted label')\n",
    "plt.show()"
   ]
  },
  {
   "cell_type": "code",
   "execution_count": null,
   "metadata": {},
   "outputs": [],
   "source": [
    "hr_train_pred = pd.concat( [train_y.reset_index( drop = True), \n",
    "                                pd.Series( clf_tree.predict_proba( train_X )[:, 1]) ], axis = 1)\n",
    "hr_train_pred.columns = ['left', 'predict_proba']"
   ]
  },
  {
   "cell_type": "code",
   "execution_count": null,
   "metadata": {},
   "outputs": [],
   "source": [
    "hr_test_pred = pd.concat( [test_y.reset_index( drop = True), \n",
    "                                pd.Series( clf_tree.predict_proba( test_X )[:, 1]) ], axis = 1)\n",
    "hr_test_pred.columns = ['left', 'predict_proba']"
   ]
  },
  {
   "cell_type": "markdown",
   "metadata": {},
   "source": [
    "#### Estimate the best cutoffs - Method 1 (for loop)"
   ]
  },
  {
   "cell_type": "code",
   "execution_count": null,
   "metadata": {
    "scrolled": true
   },
   "outputs": [],
   "source": [
    "# declare empty dataframe\n",
    "cm_scores = pd.DataFrame()\n",
    "\n",
    "for iCutoff in np.arange(0, 1, 0.005):\n",
    "    \n",
    "    # do the predictions at the cutoff\n",
    "    y_predict = np.where( hr_train_pred.predict_proba >= iCutoff, 1, 0 )\n",
    "    \n",
    "    # create the confusion matrix with predicted y\n",
    "    cm = metrics.confusion_matrix( hr_train_pred.left, y_predict )[::-1, ::-1]\n",
    "    \n",
    "    # get the sentivity + specificity at the cutoff\n",
    "    Total = cm[0, 0]/cm.sum(axis = 1)[0] + cm[1, 1]/cm.sum(axis = 1)[1]\n",
    "    \n",
    "    # append the data row wise in the dataframe\n",
    "    cm_scores = pd.concat( [cm_scores, pd.DataFrame([iCutoff, Total]).T ], axis = 0 )\n",
    "    \n",
    "cm_scores.columns = ['Cutoff', 'Score']\n",
    "cm_scores.loc[ cm_scores.Score == cm_scores.Score.max(), 'Cutoff'].iloc[0]"
   ]
  },
  {
   "cell_type": "code",
   "execution_count": null,
   "metadata": {},
   "outputs": [],
   "source": [
    "y_predict = np.where(hr_test_pred.predict_proba >= 0.22, 1, 0)"
   ]
  },
  {
   "cell_type": "code",
   "execution_count": null,
   "metadata": {},
   "outputs": [],
   "source": [
    "tree_cm_tree = metrics.confusion_matrix(test_y, y_predict )[::-1, ::-1]"
   ]
  },
  {
   "cell_type": "code",
   "execution_count": null,
   "metadata": {
    "scrolled": true
   },
   "outputs": [],
   "source": [
    "# confusion metrix for test data\n",
    "sns.heatmap(tree_cm_tree, annot = True, fmt = '.2f',\n",
    "                xticklabels = [\"Left\", \"No Left\"] , \n",
    "                    yticklabels = [\"Left\", \"No Left\"])\n",
    "\n",
    "plt.ylabel('True label')\n",
    "plt.xlabel('Predicted label')\n",
    "plt.show()"
   ]
  },
  {
   "cell_type": "code",
   "execution_count": null,
   "metadata": {},
   "outputs": [],
   "source": [
    "# accuracy score\n",
    "metrics.accuracy_score(test_y, y_predict)"
   ]
  },
  {
   "cell_type": "markdown",
   "metadata": {},
   "source": [
    "---\n",
    "# Model $Ensembles$\n",
    "\n",
    "\n",
    "> Ensemble methods combine multiple classifiers (using _model averaging_ or _voting_) which may differ in algorithms, input features, or input samples. Statistical analyses showed that ensemble methods yield better classification performances and are also less prone to overfitting. Different methods, e.g., bagging or boosting, are used to construct the final classification decision based on weighted votes."
   ]
  },
  {
   "cell_type": "markdown",
   "metadata": {},
   "source": [
    "## What is ensembling?\n",
    "\n",
    "**Ensemble learning (or \"ensembling\")** is the process of combining several predictive models in order to produce a combined model that is more accurate than any individual model.\n",
    "\n",
    "- **Regression:** take the average of the predictions\n",
    "- **Classification:** take a vote and use the most common prediction, or take the average of the predicted probabilities\n",
    "\n",
    "For ensembling to work well, the models must have the following characteristics:\n",
    "\n",
    "- **Accurate:** they outperform the null model\n",
    "- **Independent:** their predictions are generated using different processes\n",
    "\n",
    "**The big idea:** If you have a collection of individually imperfect (and independent) models, the \"one-off\" mistakes made by each model are probably not going to be made by the rest of the models, and thus the mistakes will be discarded when averaging the models.\n",
    "\n",
    "There are two basic **methods for ensembling:**\n",
    "\n",
    "- Manually ensemble your individual models\n",
    "- Use a model that ensembles for you"
   ]
  },
  {
   "cell_type": "markdown",
   "metadata": {},
   "source": [
    "---\n",
    "Why are we learning about ensembling?\n",
    "\n",
    "- Very popular method for improving the predictive performance of machine learning models\n",
    "\n",
    "- Provides a foundation for understanding more sophisticated models"
   ]
  },
  {
   "cell_type": "markdown",
   "metadata": {},
   "source": [
    "---\n",
    "# Manual ensembling\n",
    "\n",
    "What makes a good manual ensemble?\n",
    "\n",
    "- Different types of **models**\n",
    "    - Ex. Build an SVC, Decision Tree and a kNN\n",
    "- Different combinations of **features**\n",
    "    - Ex. Take a random selection of 5 variables for each model\n",
    "- Different **tuning parameters**\n",
    "    - Ex. From the grid search take the top 5 or ten best performing models "
   ]
  },
  {
   "cell_type": "code",
   "execution_count": null,
   "metadata": {},
   "outputs": [],
   "source": [
    "from IPython.display import Image\n",
    "Image(filename='crowdflower_ensembling.jpg')"
   ]
  },
  {
   "cell_type": "markdown",
   "metadata": {},
   "source": [
    "## Comparing manual ensembling with a single model approach\n",
    "\n",
    "**Advantages of manual ensembling:**\n",
    "\n",
    "- Increases predictive accuracy\n",
    "- Easy to get started\n",
    "\n",
    "**Disadvantages of manual ensembling:**\n",
    "\n",
    "- Decreases interpretability\n",
    "- Takes longer to train\n",
    "- Takes longer to predict\n",
    "- More complex to automate and maintain\n",
    "- Small gains in accuracy may not be worth the added complexity"
   ]
  },
  {
   "cell_type": "markdown",
   "metadata": {},
   "source": [
    "<big>\n",
    "\n",
    "---\n",
    "\n",
    "- Decision Trees are a \n",
    "    - LOW BIAS (not prone to underfitting), \n",
    "    - HIGH VARIANCE (prone to overfitting) algorithm\n",
    "\n",
    "\n",
    "- ENSEMBLES are a variance reduction technique\n",
    "\n",
    "- ENSEMBLES OF DECISION TREES create LOW BIAS, LOW VARIANCE model.\n",
    "\n",
    "---"
   ]
  },
  {
   "cell_type": "markdown",
   "metadata": {},
   "source": [
    "# Bagging\n",
    "\n",
    "The primary weakness of **decision trees** is that they don't tend to have the best predictive accuracy. This is partially due to **high variance**, meaning that different splits in the training data can lead to very different trees.\n",
    "\n",
    "**Bagging** is a general purpose procedure for reducing the variance of a machine learning method, but is particularly useful for decision trees. Bagging is short for **bootstrap aggregation**, meaning the aggregation of bootstrap samples.\n",
    "\n",
    "What is a **bootstrap sample**? A random sample with replacement:"
   ]
  },
  {
   "cell_type": "markdown",
   "metadata": {},
   "source": [
    "---\n",
    "**How does bagging work (for decision trees)?**\n",
    "\n",
    "1. Grow B trees using B bootstrap samples from the training data.\n",
    "2. Train each tree on its bootstrap sample and make predictions.\n",
    "3. Combine the predictions:\n",
    "    - Average the predictions for **regression trees**\n",
    "    - Take a vote for **classification trees**\n",
    "\n",
    "Notes:\n",
    "\n",
    "- **Each bootstrap sample** should be the same size as the original training set.\n",
    "- **B** should be a large enough value that the error seems to have \"stabilized\".\n",
    "- The trees are **grown deep** so that they have low bias/high variance.\n",
    "\n",
    "Bagging increases predictive accuracy by **reducing the variance**, similar to how cross-validation reduces the variance associated with train/test split (for estimating out-of-sample error) by splitting many times an averaging the results."
   ]
  },
  {
   "cell_type": "code",
   "execution_count": null,
   "metadata": {},
   "outputs": [],
   "source": [
    "import sklearn.ensemble as en"
   ]
  },
  {
   "cell_type": "code",
   "execution_count": null,
   "metadata": {},
   "outputs": [],
   "source": [
    "print([x for x in dir(en) if not x.startswith('_')])"
   ]
  },
  {
   "cell_type": "markdown",
   "metadata": {},
   "source": [
    "### Bagged decision trees"
   ]
  },
  {
   "cell_type": "code",
   "execution_count": null,
   "metadata": {},
   "outputs": [],
   "source": [
    "from sklearn.ensemble import BaggingClassifier"
   ]
  },
  {
   "cell_type": "markdown",
   "metadata": {},
   "source": [
    "----\n",
    "## Estimating out-of-sample error\n",
    "\n",
    "For bagged models, out-of-sample error can be estimated without using **train/test split** or **cross-validation**!\n",
    "\n",
    "On average, each bagged tree uses about **two-thirds** of the observations. For each tree, the **remaining observations** are called \"out-of-bag\" observations."
   ]
  },
  {
   "cell_type": "markdown",
   "metadata": {},
   "source": [
    "How to calculate **\"out-of-bag error\":**\n",
    "\n",
    "1. For every observation in the training data, predict its response value using **only** the trees in which that observation was out-of-bag. Average those predictions (for regression) or take a vote (for classification).\n",
    "2. Compare all predictions to the actual response values in order to compute the out-of-bag error.\n",
    "\n",
    "When B is sufficiently large, the **out-of-bag error** is an accurate estimate of **out-of-sample error**."
   ]
  },
  {
   "cell_type": "code",
   "execution_count": null,
   "metadata": {},
   "outputs": [],
   "source": [
    "pargrid_bagging = {'n_estimators': [230, 250, 270, 290]}\n",
    "\n",
    "gscv_bagging = GridSearchCV( estimator = BaggingClassifier( oob_score = True, max_samples = 0.8, random_state = 5), \n",
    "                                param_grid = pargrid_bagging, \n",
    "                                cv = 10,\n",
    "                                scoring = 'roc_auc',\n",
    "                                verbose = 2, \n",
    "                                n_jobs = -1).fit(train_X, train_y)"
   ]
  },
  {
   "cell_type": "code",
   "execution_count": null,
   "metadata": {},
   "outputs": [],
   "source": [
    "gscv_bagging.best_score_"
   ]
  },
  {
   "cell_type": "code",
   "execution_count": null,
   "metadata": {},
   "outputs": [],
   "source": [
    "gscv_bagging.best_params_"
   ]
  },
  {
   "cell_type": "code",
   "execution_count": null,
   "metadata": {},
   "outputs": [],
   "source": [
    "metrics.accuracy_score( train_y, gscv_bagging.best_estimator_.predict( train_X ) )"
   ]
  },
  {
   "cell_type": "code",
   "execution_count": null,
   "metadata": {},
   "outputs": [],
   "source": [
    "metrics.accuracy_score( test_y, gscv_bagging.best_estimator_.predict( test_X ) )"
   ]
  },
  {
   "cell_type": "code",
   "execution_count": null,
   "metadata": {},
   "outputs": [],
   "source": [
    "print(metrics.classification_report( test_y, gscv_bagging.best_estimator_.predict( test_X ) ))"
   ]
  },
  {
   "cell_type": "markdown",
   "metadata": {},
   "source": [
    "## Estimating feature importance\n",
    "\n",
    "Bagging increases **predictive accuracy**, but decreases **model interpretability** because it's no longer possible to visualize the tree to understand the importance of each feature.\n",
    "\n",
    "However, we can still obtain an overall summary of **feature importance** from bagged models:\n",
    "\n",
    "- **Bagged regression trees:** calculate the total amount that **MSE** is decreased due to splits over a given feature, averaged over all trees\n",
    "- **Bagged classification trees:** calculate the total amount that **Gini index** is decreased due to splits over a given feature, averaged over all trees"
   ]
  },
  {
   "cell_type": "markdown",
   "metadata": {},
   "source": [
    "# BUILDING RANDOM FOREST MODEL"
   ]
  },
  {
   "cell_type": "markdown",
   "metadata": {},
   "source": [
    "Random Forests is a **slight variation of bagged trees** that has even better performance:\n",
    "\n",
    "- Exactly like bagging, we create an ensemble of decision trees using bootstrapped samples of the training set.\n",
    "- However, when building each tree, each time a split is considered, a **random sample of m features** is chosen as split candidates from the **full set of p features**. The split is only allowed to use **one of those m features**.\n",
    "    - A new random sample of features is chosen for **every single tree at every single split**.\n",
    "    - For **classification**, m is typically chosen to be the square root of p.\n",
    "    - For **regression**, m is typically chosen to be somewhere between p/3 and p.\n",
    "\n",
    "What's the point?\n",
    "\n",
    "- Suppose there is **one very strong feature** in the data set. When using bagged trees, most of the trees will use that feature as the top split, resulting in an ensemble of similar trees that are **highly correlated**.\n",
    "- Averaging highly correlated quantities does not significantly reduce variance (which is the entire goal of bagging).\n",
    "- By randomly leaving out candidate features from each split, **Random Forests \"decorrelates\" the trees**, such that the averaging process can reduce the variance of the resulting model."
   ]
  },
  {
   "cell_type": "markdown",
   "metadata": {},
   "source": [
    "### Tuning n_estimators\n",
    "\n",
    "One important tuning parameter is **n_estimators**, which is the number of trees that should be grown. It should be a large enough value that the error seems to have \"stabilized\"."
   ]
  },
  {
   "cell_type": "markdown",
   "metadata": {},
   "source": [
    "### Tuning max_features\n",
    "\n",
    "The other important tuning parameter is **max_features**, which is the number of features that should be considered at each split."
   ]
  },
  {
   "cell_type": "markdown",
   "metadata": {},
   "source": [
    "## Comparing Random Forests with decision trees\n",
    "\n",
    "**Advantages of Random Forests:**\n",
    "\n",
    "- Performance is competitive with the best supervised learning methods\n",
    "- Provides a more reliable estimate of feature importance\n",
    "- Allows you to estimate out-of-sample error without using train/test split or cross-validation\n",
    "\n",
    "**Disadvantages of Random Forests:**\n",
    "\n",
    "- Less interpretable\n",
    "- Slower to train\n",
    "- Slower to predict"
   ]
  },
  {
   "cell_type": "code",
   "execution_count": null,
   "metadata": {},
   "outputs": [],
   "source": [
    "from sklearn.ensemble import RandomForestClassifier"
   ]
  },
  {
   "cell_type": "code",
   "execution_count": null,
   "metadata": {},
   "outputs": [],
   "source": [
    "pargrid_rf = { 'n_estimators': [75, 90, 100, 120],\n",
    "                  'max_features': [6, 7, 8, 9] }\n",
    "\n",
    "gscv_rf = GridSearchCV(estimator = RandomForestClassifier( random_state = 5 ), \n",
    "                        param_grid = pargrid_rf, \n",
    "                        cv = 5,\n",
    "                        verbose = 10, \n",
    "                        scoring = 'roc_auc',\n",
    "                        n_jobs = -1 ).fit(train_X, train_y)"
   ]
  },
  {
   "cell_type": "code",
   "execution_count": null,
   "metadata": {},
   "outputs": [],
   "source": [
    "gscv_rf.best_params_"
   ]
  },
  {
   "cell_type": "code",
   "execution_count": null,
   "metadata": {},
   "outputs": [],
   "source": [
    "gscv_rf.best_score_"
   ]
  },
  {
   "cell_type": "code",
   "execution_count": null,
   "metadata": {},
   "outputs": [],
   "source": [
    "metrics.roc_auc_score( train_y, gscv_rf.best_estimator_.predict_proba(train_X)[:, 1] )"
   ]
  },
  {
   "cell_type": "code",
   "execution_count": null,
   "metadata": {},
   "outputs": [],
   "source": [
    "metrics.roc_auc_score( test_y, gscv_rf.best_estimator_.predict_proba(test_X)[:, 1] )"
   ]
  },
  {
   "cell_type": "code",
   "execution_count": null,
   "metadata": {},
   "outputs": [],
   "source": [
    "y_train_predicted_proba = gscv_rf.best_estimator_.predict_proba(train_X)[:, 1]\n",
    "y_test_predicted_proba = gscv_rf.best_estimator_.predict_proba(test_X)[:, 1]"
   ]
  },
  {
   "cell_type": "code",
   "execution_count": null,
   "metadata": {},
   "outputs": [],
   "source": [
    "# declare empty dataframe\n",
    "cm_scores = pd.DataFrame()\n",
    "\n",
    "for iCutoff in np.arange(0, 1, 0.005):\n",
    "    \n",
    "    # do the predictions at the cutoff\n",
    "    y_predict = np.where( y_train_predicted_proba >= iCutoff, 1, 0 )\n",
    "    \n",
    "    # create the confusion matrix with predicted y\n",
    "    cm = metrics.confusion_matrix( train_y, y_predict )[::-1, ::-1]\n",
    "    \n",
    "    # get the sentivity + specificity at the cutoff\n",
    "    Total = cm[0, 0]/cm.sum(axis = 1)[0] + cm[1, 1]/cm.sum(axis = 1)[1]\n",
    "    \n",
    "    # append the data row wise in the dataframe\n",
    "    cm_scores = pd.concat( [cm_scores, pd.DataFrame([iCutoff, Total]).T ], axis = 0 )\n",
    "    \n",
    "cm_scores.columns = ['Cutoff', 'Score']\n",
    "cm_scores.loc[ cm_scores.Score == cm_scores.Score.max(), 'Cutoff'].iloc[0]"
   ]
  },
  {
   "cell_type": "markdown",
   "metadata": {},
   "source": [
    "#### predict the output based on best cutoff"
   ]
  },
  {
   "cell_type": "code",
   "execution_count": null,
   "metadata": {},
   "outputs": [],
   "source": [
    "y_predicted_train = np.where( y_train_predicted_proba >= 0.415, 1, 0 )\n",
    "y_predicted_test = np.where( y_test_predicted_proba >= 0.415, 1, 0 )"
   ]
  },
  {
   "cell_type": "code",
   "execution_count": null,
   "metadata": {},
   "outputs": [],
   "source": [
    "print('Accuracy:', metrics.accuracy_score( train_y, y_predicted_train))"
   ]
  },
  {
   "cell_type": "code",
   "execution_count": null,
   "metadata": {},
   "outputs": [],
   "source": [
    "print('Accuracy:', metrics.accuracy_score( test_y, y_predicted_test ))"
   ]
  },
  {
   "cell_type": "code",
   "execution_count": null,
   "metadata": {},
   "outputs": [],
   "source": [
    "tree_cm = metrics.confusion_matrix( test_y, y_predicted_test )[::-1, ::-1]\n",
    "sns.heatmap(tree_cm, annot=True,\n",
    "         fmt='.2f',\n",
    "         xticklabels = [\"Left\", \"No Left\"] , yticklabels = [\"Left\", \"No Left\"] )\n",
    "\n",
    "plt.ylabel('True label')\n",
    "plt.xlabel('Predicted label')"
   ]
  },
  {
   "cell_type": "markdown",
   "metadata": {
    "collapsed": true
   },
   "source": [
    "### Boosting"
   ]
  },
  {
   "cell_type": "markdown",
   "metadata": {},
   "source": [
    "#### Ada Boosting"
   ]
  },
  {
   "cell_type": "code",
   "execution_count": null,
   "metadata": {},
   "outputs": [],
   "source": [
    "from sklearn.ensemble import AdaBoostClassifier, GradientBoostingClassifier"
   ]
  },
  {
   "cell_type": "code",
   "execution_count": null,
   "metadata": {},
   "outputs": [],
   "source": [
    "from sklearn.model_selection import GridSearchCV"
   ]
  },
  {
   "cell_type": "code",
   "execution_count": null,
   "metadata": {},
   "outputs": [],
   "source": [
    "pargrid_ada = {'n_estimators': [90, 100, 150, 200],\n",
    "                   'learning_rate': [10 ** x for x in range(-2, 2)]}"
   ]
  },
  {
   "cell_type": "code",
   "execution_count": null,
   "metadata": {},
   "outputs": [],
   "source": [
    "gscv_ada = GridSearchCV(estimator = AdaBoostClassifier(), \n",
    "                        param_grid = pargrid_ada, \n",
    "                        cv = 5,\n",
    "                        verbose = 10, \n",
    "                        scoring = 'roc_auc',\n",
    "                        n_jobs = -1).fit(train_X, train_y)"
   ]
  },
  {
   "cell_type": "code",
   "execution_count": null,
   "metadata": {},
   "outputs": [],
   "source": [
    "gscv_ada.best_params_"
   ]
  },
  {
   "cell_type": "code",
   "execution_count": null,
   "metadata": {},
   "outputs": [],
   "source": [
    "gscv_ada.best_score_"
   ]
  },
  {
   "cell_type": "code",
   "execution_count": null,
   "metadata": {},
   "outputs": [],
   "source": [
    "print(metrics.accuracy_score(test_y, gscv_ada.best_estimator_.predict(test_X)))\n",
    "print(metrics.roc_auc_score(test_y, gscv_ada.best_estimator_.predict(test_X)))"
   ]
  },
  {
   "cell_type": "markdown",
   "metadata": {},
   "source": [
    "#### GBM - Gradient Boosting"
   ]
  },
  {
   "cell_type": "code",
   "execution_count": null,
   "metadata": {},
   "outputs": [],
   "source": [
    "from sklearn.ensemble import GradientBoostingClassifier"
   ]
  },
  {
   "cell_type": "code",
   "execution_count": null,
   "metadata": {},
   "outputs": [],
   "source": [
    "pargrid_gbm = {'n_estimators': [550, 600, 650],\n",
    "                    'learning_rate': [10 ** x for x in range(-2, 1)],\n",
    "                        'max_features': [5, 6, 7, 8, 9]}"
   ]
  },
  {
   "cell_type": "code",
   "execution_count": null,
   "metadata": {},
   "outputs": [],
   "source": [
    "gscv_gbm = GridSearchCV(estimator = GradientBoostingClassifier(), \n",
    "                            param_grid = pargrid_gbm, \n",
    "                            cv = 5,\n",
    "                            verbose = 10,\n",
    "                            scoring = 'roc_auc',\n",
    "                            n_jobs = -1).fit(train_X, train_y)"
   ]
  },
  {
   "cell_type": "code",
   "execution_count": null,
   "metadata": {},
   "outputs": [],
   "source": [
    "gscv_gbm.best_score_"
   ]
  },
  {
   "cell_type": "code",
   "execution_count": null,
   "metadata": {},
   "outputs": [],
   "source": [
    "gscv_gbm.best_params_"
   ]
  },
  {
   "cell_type": "code",
   "execution_count": null,
   "metadata": {},
   "outputs": [],
   "source": [
    "print(metrics.accuracy_score( test_y, gscv_gbm.best_estimator_.predict(test_X)) )\n",
    "print(metrics.roc_auc_score( test_y, gscv_gbm.best_estimator_.predict(test_X)) )"
   ]
  },
  {
   "cell_type": "code",
   "execution_count": null,
   "metadata": {},
   "outputs": [],
   "source": [
    "feature_imp = pd.concat( [pd.Series(train_X.columns), \n",
    "            pd.Series(gscv_gbm.best_estimator_.feature_importances_)], axis = 1)\n",
    "feature_imp.columns = ['feature', 'importance']"
   ]
  },
  {
   "cell_type": "code",
   "execution_count": null,
   "metadata": {},
   "outputs": [],
   "source": [
    "feature_imp.sort_values( by = 'importance', ascending=False )"
   ]
  },
  {
   "cell_type": "markdown",
   "metadata": {},
   "source": [
    "#### Xtreme Gradient Boosting"
   ]
  },
  {
   "cell_type": "code",
   "execution_count": null,
   "metadata": {},
   "outputs": [],
   "source": [
    "# pip install Xgboost"
   ]
  },
  {
   "cell_type": "code",
   "execution_count": null,
   "metadata": {},
   "outputs": [],
   "source": [
    "from xgboost import XGBClassifier"
   ]
  },
  {
   "cell_type": "code",
   "execution_count": null,
   "metadata": {},
   "outputs": [],
   "source": [
    "pargrid_xgbm = {'n_estimators': [50, 100, 200, 250],\n",
    "                    'learning_rate': [10 ** x for x in range(-2, 1)],\n",
    "                        'max_features': [2, 3, 4, 5, 6]}"
   ]
  },
  {
   "cell_type": "code",
   "execution_count": null,
   "metadata": {},
   "outputs": [],
   "source": [
    "gscv_xgbm = GridSearchCV(estimator = XGBClassifier(), \n",
    "                            param_grid = pargrid_xgbm, \n",
    "                            cv = 5,\n",
    "                            verbose = 10, \n",
    "                            scoring = 'roc_auc',\n",
    "                            n_jobs = -1).fit( train_X, train_y )"
   ]
  },
  {
   "cell_type": "code",
   "execution_count": null,
   "metadata": {},
   "outputs": [],
   "source": [
    "gscv_xgbm.best_score_"
   ]
  },
  {
   "cell_type": "code",
   "execution_count": null,
   "metadata": {},
   "outputs": [],
   "source": [
    "gscv_xgbm.best_params_"
   ]
  },
  {
   "cell_type": "code",
   "execution_count": null,
   "metadata": {},
   "outputs": [],
   "source": [
    "# rebuild the model with best params\n",
    "xgbm = gscv_xgbm.best_estimator_\n",
    "xgbm.fit( train_X, train_y )"
   ]
  },
  {
   "cell_type": "code",
   "execution_count": null,
   "metadata": {},
   "outputs": [],
   "source": [
    "print(metrics.accuracy_score( test_y, xgbm.predict(test_X)) )\n",
    "print(metrics.roc_auc_score( test_y, xgbm.predict_proba(test_X)[:, 1]) )"
   ]
  },
  {
   "cell_type": "code",
   "execution_count": null,
   "metadata": {},
   "outputs": [],
   "source": []
  },
  {
   "cell_type": "code",
   "execution_count": null,
   "metadata": {},
   "outputs": [],
   "source": []
  }
 ],
 "metadata": {
  "anaconda-cloud": {},
  "kernelspec": {
   "display_name": "Python 3",
   "language": "python",
   "name": "python3"
  },
  "language_info": {
   "codemirror_mode": {
    "name": "ipython",
    "version": 3
   },
   "file_extension": ".py",
   "mimetype": "text/x-python",
   "name": "python",
   "nbconvert_exporter": "python",
   "pygments_lexer": "ipython3",
   "version": "3.8.8"
  }
 },
 "nbformat": 4,
 "nbformat_minor": 1
}
